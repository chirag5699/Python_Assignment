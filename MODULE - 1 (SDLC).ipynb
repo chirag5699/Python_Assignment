{
 "cells": [
  {
   "cell_type": "code",
   "execution_count": null,
   "id": "956f7870",
   "metadata": {},
   "outputs": [],
   "source": [
    " Q--> What is Softwere ?\n",
    " ans: Software is responsible for directing all computer-related devices and instructing them\n",
    "      regarding what and how the task is to be performed. However, the software is made up of \n",
    "      binary language (composed of ones and zeros), and for a programmer writing the binary\n",
    "      code would be a slow and tedious task. Therefore, software programmers write the \n",
    "      software program in various human-readable languages such as Java, Python,\n",
    "      C#, etc. and later use the source code.\n",
    "        \n",
    "      Software's are broadly classified into two types, i.e.,\n",
    "        1) System Software and\n",
    "        2) Application Software.\n",
    "\n",
    "  \n"
   ]
  },
  {
   "cell_type": "code",
   "execution_count": null,
   "id": "0ca5bea1",
   "metadata": {},
   "outputs": [],
   "source": []
  },
  {
   "cell_type": "code",
   "execution_count": null,
   "id": "e60ee38c",
   "metadata": {},
   "outputs": [],
   "source": [
    " Q--> What are the types of Application ?\n",
    " ans:\n",
    "      1) Word Processing Software. ...\n",
    "      2) Spreadsheet Software. ...\n",
    "      3) Presentation Software. ...\n",
    "      4) Multimedia Software. ...\n",
    "      5) Web Browsers. ...\n",
    "      6) Educational Software. ...\n",
    "      7) Graphics Software. ...\n",
    "      8) Freeware."
   ]
  },
  {
   "cell_type": "code",
   "execution_count": null,
   "id": "618fd10d",
   "metadata": {},
   "outputs": [],
   "source": [
    " Q--> What is programing ?\n",
    " ans:   A programming language is a computer language programmers use to develop software programs,\n",
    "        scripts, or other sets of instructions for computers to execute.\n",
    "\n",
    "        Although many languages share similarities, each has its own syntax.\n",
    "        Once a programmer learns the languages rules, syntax, and structure, \n",
    "        they write the source code in a text editor or IDE. Then,\n",
    "        the programmer often compiles the code into machine language that can be understood by the computer.\n",
    "        Scripting languages, which do not require a compiler, use an interpreter to execute the script ...\n",
    "        \n",
    "    ---> Types of programming languages\n",
    "          1. High-level (most common) / low-level\n",
    "          2. Declarative / imperative / procedural\n",
    "          3. General-purpose / domain-specific\n",
    "          4. Object-oriented / concurrent\n",
    "          5. Command / Compiled / Script language\n",
    "          6. Answer set"
   ]
  },
  {
   "cell_type": "code",
   "execution_count": null,
   "id": "3015f4b6",
   "metadata": {},
   "outputs": [],
   "source": [
    "  Q--> What is Python ?\n",
    "  ans :-> Python is an interpreted, object-oriented, high-level programming languagewith dynamic semantics.\n",
    "       -> Its high-level built in data structures, combined with dynamic typing and dynamic binding,\n",
    "       -> make it very attractive for Rapid Application Development,\n",
    "          as well as for use as a scripting or glue language to connect existing components together.\n",
    "       -> Python's simple, easy to learn syntax emphasizes readability and therefore reduces the cost of program maintenance.\n",
    "       -> Python supports modules and packages, which encourages program modularity and code reuse.\n",
    "       -> The Python interpreter and the extensive standard library are available in \n",
    "          source or binary form without charge for all major platforms, and can be freely distributed.   "
   ]
  }
 ],
 "metadata": {
  "kernelspec": {
   "display_name": "Python 3 (ipykernel)",
   "language": "python",
   "name": "python3"
  },
  "language_info": {
   "codemirror_mode": {
    "name": "ipython",
    "version": 3
   },
   "file_extension": ".py",
   "mimetype": "text/x-python",
   "name": "python",
   "nbconvert_exporter": "python",
   "pygments_lexer": "ipython3",
   "version": "3.9.13"
  }
 },
 "nbformat": 4,
 "nbformat_minor": 5
}
