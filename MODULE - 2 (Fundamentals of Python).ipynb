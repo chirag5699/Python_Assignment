{
 "cells": [
  {
   "cell_type": "code",
   "execution_count": 9,
   "id": "7bc891e1",
   "metadata": {},
   "outputs": [
    {
     "name": "stdout",
     "output_type": "stream",
     "text": [
      "Enter a number: -99\n",
      "-99 ☻☻☻ num is Negative number\n",
      "😂\n"
     ]
    }
   ],
   "source": [
    "# Q.1-> Write a python program to check if a number is positive, negetive or zero.\n",
    "from colorama import Fore\n",
    "\n",
    "num = int(input(\"Enter a number: \"))\n",
    "if num > 0:  # chack number is Positive or not\n",
    "   print(num,Fore.GREEN+\"num is Positive number\")\n",
    "elif num == 0: # check number is equal or not\n",
    "   print(num,Fore.YELLOW+ \"num is Zero\")\n",
    "else:        \n",
    "   print(num,\"☻☻☻ num is Negative number\")   \n",
    "print(\"\\U0001F602\")\n",
    "    "
   ]
  },
  {
   "cell_type": "code",
   "execution_count": 5,
   "id": "51e9d22e",
   "metadata": {},
   "outputs": [
    {
     "name": "stdout",
     "output_type": "stream",
     "text": [
      "Enter a number: 5\n",
      "1*2*3*4*5*\n",
      "factorial num  is = 120\n"
     ]
    }
   ],
   "source": [
    "# Q.2-> Write a Python progrem to get the factorial number of given number.\n",
    "\n",
    "num = int(input(\"Enter a number: \"))\n",
    "factorial=1     # factorial define 1\n",
    "for i in range(1,num+1):    \n",
    "    factorial = factorial * i   # factorial number  multipection to range number\n",
    "    print(i,end=\"*\")            # print factorial number\n",
    "print(f\"\\nfactorial num  is = {factorial}\")  # print multipection ans"
   ]
  },
  {
   "cell_type": "code",
   "execution_count": 1,
   "id": "5aaa1afb",
   "metadata": {},
   "outputs": [
    {
     "name": "stdout",
     "output_type": "stream",
     "text": [
      "Enter a number: 10\n",
      "fibonacci num is 10\n",
      "0 1 1 2 3 5 8 13 21 34 "
     ]
    }
   ],
   "source": [
    "# Q.3->  Write a Python progrem to get the fibonacci series of given number. \n",
    "\n",
    "n = int(input(\"Enter a number: \"))  # usar input\n",
    "print(f\"fibonacci num is {n}\")   # print input number\n",
    "n1=0\n",
    "n2=1\n",
    "n3=0\n",
    "print(n1,n2,end=\" \")        \n",
    "for i in range(2,n):    \n",
    "    if (n<=1):\n",
    "        print(1)\n",
    "    else:\n",
    "        n3=n1+n2      # else logic fibonacci \n",
    "        n1=n2 \n",
    "        n2=n3\n",
    "        print(n3,end=\" \")\n"
   ]
  },
  {
   "cell_type": "code",
   "execution_count": null,
   "id": "ff0678a8",
   "metadata": {},
   "outputs": [],
   "source": [
    "Q.4-> how to memory is managed in Python ?\n",
    "ans : According to the Python memory management documentation,\n",
    "      Python has a private heap that stores our program’s objects and \n",
    "      data structures. Python memory manager takes care of the bulk of the memory management work and\n",
    "      allows us to concentrate on our code.\n",
    "        \n",
    "      two Types of memory allocation..\n",
    "           1. Static memory\n",
    "           2. Dynamic memory\n",
    "\n"
   ]
  },
  {
   "cell_type": "code",
   "execution_count": 15,
   "id": "24d0dd85",
   "metadata": {},
   "outputs": [
    {
     "name": "stdout",
     "output_type": "stream",
     "text": [
      "0\n",
      "1\n",
      "2\n",
      "3\n",
      "5\n",
      "num (4) is skip\n"
     ]
    }
   ],
   "source": [
    "#Q.5-> What is the purpose continue statement in python ?\n",
    "ans :The continue keyword is used to end the current iteration\n",
    "     in a for loop or a while loop, and continues to the next iteration.\n",
    "\n",
    " Ex:       # ex: for continue stetment   \n",
    "for i in range(6):  \n",
    "   if i==4:\n",
    "        continue     # use continue stetment\n",
    "   print(i)  \n",
    "print(\"num (4) is skip\")    \n",
    "\n",
    "     "
   ]
  },
  {
   "cell_type": "code",
   "execution_count": 9,
   "id": "137bae86",
   "metadata": {
    "scrolled": false
   },
   "outputs": [
    {
     "name": "stdout",
     "output_type": "stream",
     "text": [
      "-------------- with temp-------------\n",
      "Enter number num1 :10\n",
      "Enter number num2 :20\n",
      "\u001b[32mwith temp num1 = 20\n",
      "\u001b[33mwith temp num2 = 10\n",
      "-------------- without temp-------------\n",
      "Enter number A :40\n",
      "Enter number B :55\n",
      "\u001b[36mwithout temp a = 55\n",
      "\u001b[34mwithout temp b = 40\n"
     ]
    }
   ],
   "source": [
    "#  Q.6-> write python program that swap two number with temp variable and without temp variable.\n",
    "from colorama import Fore\n",
    "\n",
    "                                                \n",
    "print(\"-------------- with temp-------------\")   #   use with temp :\n",
    "num1=int(input(\"Enter number num1 :\"))\n",
    "num2=int(input(\"Enter number num2 :\"))\n",
    "temp = num1      #  logic swap num\n",
    "num1 = num2\n",
    "num2 = temp\n",
    "print(Fore.GREEN+\"with temp num1 =\",num1)\n",
    "print(Fore.YELLOW+\"with temp num2 =\",num2)\n",
    " \n",
    "print(\"-------------- without temp-------------\")   #  use without temp:\n",
    "\n",
    "\n",
    "a=int(input(\"Enter number A :\"))\n",
    "b=int(input(\"Enter number B :\"))\n",
    "a = a + b    # logic swap num\n",
    "b = a - b\n",
    "a = a - b\n",
    "print(Fore.CYAN+\"without temp a =\",a)\n",
    "print(Fore.BLUE+\"without temp b =\",b)\n"
   ]
  },
  {
   "cell_type": "code",
   "execution_count": 7,
   "id": "9d29b3b3",
   "metadata": {},
   "outputs": [
    {
     "name": "stdout",
     "output_type": "stream",
     "text": [
      "Enter one number :10\n",
      "10 number is Even\n"
     ]
    }
   ],
   "source": [
    "# Q.7-> write a python program to find whethar a givan number is even or odd,print out an appropriate message to the usar.\n",
    "\n",
    "num=int(input(\"Enter one number :\"))\n",
    "if (num % 2 == 0):      # check to number Even\n",
    "    print(num,\"number is Even\")\n",
    "elif (num % 2 != 0):    # check to number Odd\n",
    "    print(num,\"number is odd\")\n",
    "else:\n",
    "    print(\"Enter valid input\")\n"
   ]
  },
  {
   "cell_type": "code",
   "execution_count": 19,
   "id": "dc43ca02",
   "metadata": {},
   "outputs": [
    {
     "name": "stdout",
     "output_type": "stream",
     "text": [
      "Enter char :x\n",
      " cher is consonrt\n"
     ]
    }
   ],
   "source": [
    "# Q.8-> write a python program to test whether a passed letter is a vowal or not.\n",
    "\n",
    "vowal=(input(\"Enter char :\"))    # input vowal char\n",
    "# if  (vowal==\"a\" or vowal==\"e\" or vowal==\"i\" or vowal==\"o\" or vowal==\"u\"):  #check vowal small or not \n",
    "#     print(\"☻ small vowal ☻\")\n",
    "# elif (vowal==\"A\" or vowal==\"E\" or vowal==\"I\" or vowal==\"O\" or vowal==\"U\"):   #check vowal captial or not \n",
    "#     print(\"☻ Capital vowal ☻\")\n",
    "# else:                                                  # not vowal char\n",
    "#     print(\"[-- char is consonant---12]\")\n",
    "if vowal in \"aeiouAEIOU\":\n",
    "    print(\" char is vowal\")\n",
    "else:\n",
    "    print(\" cher is consonrt\")\n",
    "    "
   ]
  },
  {
   "cell_type": "raw",
   "id": "776de02e",
   "metadata": {},
   "source": []
  },
  {
   "cell_type": "code",
   "execution_count": 10,
   "id": "017b98f0",
   "metadata": {},
   "outputs": [
    {
     "name": "stdout",
     "output_type": "stream",
     "text": [
      "Enter number A :52\n",
      "Enter number B :36\n",
      "Enter number C :25\n",
      "sum is= [113]\n",
      "***[ two value is not eqeal ]***\n"
     ]
    }
   ],
   "source": [
    "# Q.9->write a python program to sum of three givan integers. hawever,if two vales are equal sun will be zero. \n",
    "\n",
    "a=int(input(\"Enter number A :\"))    \n",
    "b=int(input(\"Enter number B :\"))\n",
    "c=int(input(\"Enter number C :\"))      #  input Three intiger number\n",
    "\n",
    "sum = a + b + c         # sum three int value\n",
    "print(\"sum is=\",[sum])    # print sum\n",
    "if ((a == b or a == c)):  # compare three value    \n",
    "    if(a == b ):    # check num eqal or not\n",
    "        print(\" two value are equal\\n sum will be =\", [a - b])\n",
    "    else:  \n",
    "        print(\"two value are equal\\n sum will be =\", [a - c])\n",
    "elif(b == a or b == c):     # compare three value\n",
    "    if(b == a ):   # check num eqal or not\n",
    "        print(\"two value are equal\\n sum will be =\", [b - a])\n",
    "    else:  \n",
    "        print(\"two value are equal\\n sum will be =\", [b - c])\n",
    "else:    # Two value are not eqal\n",
    "    print(\"***[ two value is not eqeal ]***\")"
   ]
  },
  {
   "cell_type": "code",
   "execution_count": 14,
   "id": "714f209d",
   "metadata": {},
   "outputs": [
    {
     "name": "stdout",
     "output_type": "stream",
     "text": [
      "Enter number A :52\n",
      "Enter number B :36\n",
      "False \n",
      " because two value is not eqel\n"
     ]
    }
   ],
   "source": [
    "# Q.10->write a python program that will return true if the two givan integer values are equal or their sum or difference is 5.\n",
    "\n",
    "a=int(input(\"Enter number A :\"))\n",
    "b=int(input(\"Enter number B :\"))\n",
    "if (a == b or a - b == 5 or a + b == 5): # ckeck num are equal or their sum or difference is 5.\n",
    "    sum=a+b\n",
    "    print('sum is=',sum)    # print input Two value sum\n",
    "    print(\"true \\n because two value is eqel\")\n",
    "else:   # two value are nor eqal\n",
    "    print(\"False \\n because two value is not eqel\")\n"
   ]
  },
  {
   "cell_type": "code",
   "execution_count": 4,
   "id": "2dac364e",
   "metadata": {},
   "outputs": [
    {
     "name": "stdout",
     "output_type": "stream",
     "text": [
      "Enter number one num  :5\n",
      "1 + 2 + 3 + 4 + 5 + = 15\n",
      "sum is {15}\n"
     ]
    }
   ],
   "source": [
    "# Q.11-> write a python program to sum of the first n positive integers.\n",
    "\n",
    "num=int(input(\"Enter number one num  :\"))\n",
    "sum = 0    # sum define 0\n",
    "for i in range(1,num+1):\n",
    "    sum = sum + i    # sum num  Addition to range number\n",
    "    print(i, end=\" + \")  # print sum number\n",
    "print(\"=\",sum)\n",
    "print(\"sum is\",{sum})   # print sum\n"
   ]
  },
  {
   "cell_type": "code",
   "execution_count": 15,
   "id": "d2774bf8",
   "metadata": {},
   "outputs": [
    {
     "name": "stdout",
     "output_type": "stream",
     "text": [
      "Enter a string: chirag katrodiya\n",
      "['chirag katrodiya']  is Length of string is: 16\n"
     ]
    }
   ],
   "source": [
    "# Q.12->  write a python program to calculate the length of a string.\n",
    "\n",
    "str = input(\"Enter a string: \")    # input string\n",
    "print([str],\" is Length of string is:\", len(str))   # use string len() fanction\n"
   ]
  },
  {
   "cell_type": "code",
   "execution_count": 1,
   "id": "3db20e37",
   "metadata": {},
   "outputs": [
    {
     "name": "stdout",
     "output_type": "stream",
     "text": [
      "Enter a string: chirag katrodiya\n",
      "{'c': 1, 'h': 1, 'i': 2, 'r': 2, 'a': 3, 'g': 1, ' ': 1, 'k': 1, 't': 1, 'o': 1, 'd': 1, 'y': 1}\n"
     ]
    }
   ],
   "source": [
    "# Q.13-> write a python program to count the number of cheracters (character frequency) in a string.\n",
    "\n",
    "n= input(\"Enter a string: \")   # input string\n",
    "dict={}    # variable define dictionary becouse ans is dictionary foram\n",
    "for i in n:    #  i define variable  & n define in input string\n",
    "    if i in dict:   # check to char allredy exits or not\n",
    "        dict[i]+=1   # exits double char to char+1   \n",
    "    else:\n",
    "        dict[i]=1     # exits one char to char in 1\n",
    "print(dict)    # print character frequency in dictionary \n",
    "\n"
   ]
  },
  {
   "cell_type": "code",
   "execution_count": null,
   "id": "55603776",
   "metadata": {},
   "outputs": [],
   "source": [
    "  Q.14-> what are negative indexes and why are thay used?\n",
    "  ans   :Negative Indexing is used to in Python to begin slicing from the end of the string\n",
    "        i.e. the last. Slicing in Python gets a sub-string from a string.\n",
    "        The slicing range is set as parameters i.e. start, stop and step.  \n"
   ]
  },
  {
   "cell_type": "code",
   "execution_count": 6,
   "id": "4afb6c8a",
   "metadata": {},
   "outputs": [
    {
     "name": "stdout",
     "output_type": "stream",
     "text": [
      "count is= 4\n"
     ]
    }
   ],
   "source": [
    "# Q.15-> write a python program to count the occurrences of a substring in a string. \n",
    "\n",
    "str=\"write a python program to count the occurrences of a substring in a string\"\n",
    "a=str.count(\"a\")     #  how match to count charater \"a\"\n",
    "print(\"count is=\",a)\n"
   ]
  },
  {
   "cell_type": "code",
   "execution_count": 16,
   "id": "593f8c26",
   "metadata": {},
   "outputs": [
    {
     "name": "stdout",
     "output_type": "stream",
     "text": [
      "Enter a sentence: i am chirag i am larning python\n",
      "{'i': 2, 'am': 2, 'chirag': 1, 'larning': 1, 'python': 1}\n"
     ]
    }
   ],
   "source": [
    " # Q.16->  write a python program to count the occurrences of each word in a givan sentence.\n",
    "    \n",
    "n=input(\"Enter a sentence: \")  # input sentence\n",
    "dict1={}   # variable define dictionary becouse ans is dictionary foram (keys,value)\n",
    "words=n.split()    #split method use in sentence are split\n",
    "n=1\n",
    "for i in words:  #  i define variable  & words define in input sentence in split\n",
    "    if i in dict1.keys():\n",
    "        dict1[i]=n+1   # exits double char to n+1\n",
    "    else:\n",
    "        dict1[i]=n     # exits one char to words in 1\n",
    "print(dict1)\n",
    "\n"
   ]
  },
  {
   "cell_type": "code",
   "execution_count": null,
   "id": "1e266b9c",
   "metadata": {},
   "outputs": [],
   "source": [
    " \n",
    "# Q.17 write a python program to get singal string from two givan strings,saparated\n",
    "#     by a space and swap the first two charactors of each strings.\n",
    "\n",
    "a =input(\"Enter string a :\")    \n",
    "b =input(\"Enter string b :\")     # input two string\n",
    "print(\"Before Swap :\",a,\",\",b)    # print allredy input string\n",
    "a1=a[1]+a[0]+a[2:]       \n",
    "b1=b[1]+b[0]+b[2:]    # logic first two charactors are swap\n",
    "\n",
    "print(\"After Swap :\",a1,\",\",b1)   # print swap two charactors in string\n"
   ]
  },
  {
   "cell_type": "code",
   "execution_count": 28,
   "id": "4be524e7",
   "metadata": {},
   "outputs": [
    {
     "name": "stdout",
     "output_type": "stream",
     "text": [
      "Enter string :string\n",
      "stringly\n"
     ]
    }
   ],
   "source": [
    "#Q.18->write a python program to add 'ing' at the end of a givan string(length should be at least 3).\n",
    "#     if the givan string already ends with 'ing' then add 'ly' instend if the string length of the givan string\n",
    "#    is less than 3, leave it unchange. \n",
    "\n",
    "str=input(\"Enter string :\")\n",
    "if len(str) >= 3:     # check in string of len greter then 3  \n",
    "    if str.endswith('ing'):   # check to input string ending \"ing\" or not\n",
    "        str += 'ly'  # ending \"ing\" to \"ing+ly\"\n",
    "    else:\n",
    "        str += 'ing' # not ending to \"ing\" to string append \"ing\"      \n",
    "print(str)        \n",
    "     "
   ]
  },
  {
   "cell_type": "code",
   "execution_count": 13,
   "id": "81f905b5",
   "metadata": {},
   "outputs": [
    {
     "name": "stdout",
     "output_type": "stream",
     "text": [
      "ENter String: chirag is not a dcwdc cewf ew poor persion\n",
      "chirag is good persion\n"
     ]
    }
   ],
   "source": [
    "# Q.19-> write a python program to find the first appearance of the substring 'not' and 'poor' from a givan string,\n",
    "#       if 'not' follows the 'poor' ,replace the whole 'not'...'poor' substring with 'good'.return the resuiting string.\n",
    "str1=input(\"ENter String: \")\n",
    "i1=str1.find(\"not\")   # find  this string \"not\"\n",
    "i2=str1.find(\"poor\")  # find this string \"poor\"\n",
    "if i1<12:  # check string i1 less then 12\n",
    "    str2=str1.replace(str1[i1:i2+4],\"good\")  # string is under \"not poor\" to replace \"good\"\n",
    "    print(str2)\n",
    "else:\n",
    "    print(str1)\n"
   ]
  },
  {
   "cell_type": "code",
   "execution_count": 2,
   "id": "fe8200d8",
   "metadata": {
    "scrolled": true
   },
   "outputs": [
    {
     "name": "stdout",
     "output_type": "stream",
     "text": [
      "Enter line of string :hallo i am larning python\n",
      "largest string of length : {7}\n"
     ]
    }
   ],
   "source": [
    "# Q.20 -> write python function that takes a list of words and returns the length of the longstest one.\n",
    "\n",
    "\n",
    "def longstest(str1):\n",
    "    word=str1.split()  #split method use in string are parts split \n",
    "    long=len(word[0])  #long variable to 0 index of len   \n",
    "    for i in word:  \n",
    "        if long < len(i):   # check to len(i) long to big or not \n",
    "            long=len(i)     # is True are to stor len(i) in long variable \n",
    "            print(\"largest string of length :\",{long})  # print long variable      \n",
    "\n",
    "            \n",
    "str1=input(\"Enter line of string :\") \n",
    "longstest(str1)            \n",
    "        "
   ]
  },
  {
   "cell_type": "code",
   "execution_count": 18,
   "id": "2d6213e8",
   "metadata": {},
   "outputs": [
    {
     "name": "stdout",
     "output_type": "stream",
     "text": [
      "Enter the String :ss\n",
      "ss\n",
      "Enter string:chirag katrodiya\n"
     ]
    },
    {
     "data": {
      "text/plain": [
       "'ayidortak garihc'"
      ]
     },
     "execution_count": 18,
     "metadata": {},
     "output_type": "execute_result"
    }
   ],
   "source": [
    "# Q.21-> write python function to reverses a string if its langth is a multiple of 4.\n",
    "    \n",
    "def reverse(a):   # function decleration\n",
    "    if len(str1) %4==0:\n",
    "        return str1[-1::-1]\n",
    "    else:\n",
    "        return str1\n",
    "str1=input(\"Enter string:\")    \n",
    "reverse(str1)    # coll fanction   \n"
   ]
  },
  {
   "cell_type": "code",
   "execution_count": 3,
   "id": "a3c72132",
   "metadata": {},
   "outputs": [
    {
     "name": "stdout",
     "output_type": "stream",
     "text": [
      "Enter a string :chirag\n",
      "chag\n"
     ]
    }
   ],
   "source": [
    "#Q.22-> write a python program to get a String.if the string made of the first 2 and the last 2 chars from given a string.\n",
    "#       if the string length is less then 2, return instend of the empty string.\n",
    "\n",
    "def string(s):\n",
    "    if len(str) <= 2:    # check string if len lessthen 2\n",
    "        print(\" \\n string is empty\") \n",
    "    else:       # string greter then 2 first & last 2 char print\n",
    "        print(str[:2] + str[-2:])\n",
    "str=input(\"Enter a string :\")\n",
    "string(str)\n"
   ]
  },
  {
   "cell_type": "code",
   "execution_count": 1,
   "id": "4753ff76",
   "metadata": {},
   "outputs": [
    {
     "name": "stdout",
     "output_type": "stream",
     "text": [
      "Enter a string A :hallo\n",
      "Enter a string b :chirag\n",
      "hachiragllo\n"
     ]
    }
   ],
   "source": [
    "#Q.23-> write a python function to insert a string in the middle of a string.\n",
    "\n",
    "def string(a,b):\n",
    "    return a[:2] + b + a[2:]\n",
    "str1=(input(\"Enter a string A :\"))\n",
    "str2=(input(\"Enter a string b :\"))\n",
    "print(string(str1,str2))\n",
    "\n",
    "# ans=string(\"hallo\",\"chirag\")\n",
    "# print(ans)\n"
   ]
  },
  {
   "cell_type": "code",
   "execution_count": null,
   "id": "149f01e7",
   "metadata": {
    "scrolled": true
   },
   "outputs": [],
   "source": [
    "\n",
    "\n"
   ]
  },
  {
   "cell_type": "code",
   "execution_count": null,
   "id": "149246ed",
   "metadata": {},
   "outputs": [],
   "source": []
  },
  {
   "cell_type": "code",
   "execution_count": null,
   "id": "c640e273",
   "metadata": {},
   "outputs": [],
   "source": []
  },
  {
   "cell_type": "code",
   "execution_count": null,
   "id": "07df509c",
   "metadata": {},
   "outputs": [],
   "source": []
  },
  {
   "cell_type": "code",
   "execution_count": null,
   "id": "d3ea8e7a",
   "metadata": {},
   "outputs": [],
   "source": []
  }
 ],
 "metadata": {
  "kernelspec": {
   "display_name": "Python 3 (ipykernel)",
   "language": "python",
   "name": "python3"
  },
  "language_info": {
   "codemirror_mode": {
    "name": "ipython",
    "version": 3
   },
   "file_extension": ".py",
   "mimetype": "text/x-python",
   "name": "python",
   "nbconvert_exporter": "python",
   "pygments_lexer": "ipython3",
   "version": "3.9.13"
  }
 },
 "nbformat": 4,
 "nbformat_minor": 5
}
