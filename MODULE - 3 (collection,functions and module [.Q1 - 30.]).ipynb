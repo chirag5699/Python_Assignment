{
 "cells": [
  {
   "cell_type": "code",
   "execution_count": null,
   "id": "89bb5797",
   "metadata": {},
   "outputs": [],
   "source": [
    "Q.1--> What is list? How will you reverse a list?\n",
    "ans : Lists are used to store multiple items in a single variable. \n",
    "      Lists are one of 4 built-in data types in Python used to store collections of data,\n",
    "      the other 3 are Tuple, Set, and Dictionary, all with different qualities and usage.\n",
    "    ->In Python, a built-in function called reverse() is used to reverse the list. \n",
    "      This simple and quick way to reverse a list in Python requires little memory. \n",
    "      Syntax: list_name. reverse() Here, list_name means you have to write the list's name, which has to be reversed.\n",
    "\n",
    "    "
   ]
  },
  {
   "cell_type": "code",
   "execution_count": 1,
   "id": "553600df",
   "metadata": {},
   "outputs": [
    {
     "name": "stdout",
     "output_type": "stream",
     "text": [
      "Updated list: [2, 33, 222, 14]\n"
     ]
    }
   ],
   "source": [
    "'''Q.2-> how will you remove last object from a list?\n",
    "      suppose list1 is [2,33,222,14 and 25],what is list[-1]?\n",
    "ans : Using del\n",
    "      The del operator deletes the element at the specified index location from the list.\n",
    "      To delete the last element, we can use the negative index -1.\n",
    "      The use of the negative index allows us to delete the last element, even without calculating the length of the list.''' \n",
    "        \n",
    "#Ex:     \n",
    "list= [2,33,222,14,25]\n",
    "list=list[:-1]   # remove last object \n",
    "\n",
    "print(\"Updated list:\" ,list)\n",
    "    "
   ]
  },
  {
   "cell_type": "code",
   "execution_count": 3,
   "id": "438bf2e4",
   "metadata": {
    "scrolled": true
   },
   "outputs": [
    {
     "name": "stdout",
     "output_type": "stream",
     "text": [
      "append method use list : [1, 3.33, 'chirag', '3:python']\n",
      "extend method use list : [1, 3.33, 'chirag', 10, 20, 30]\n",
      "insert method use list : [1, 5, 'Django', 3, 21]\n"
     ]
    }
   ],
   "source": [
    "#Q.3--> differentiate between append() ans extend() methods?\n",
    "#    -> append :\n",
    "#        append() add an item to the end of a list.\n",
    "list=[1,3.33,\"chirag\"]\n",
    "list.append(\"3:\" \"python\")  # append list of last\n",
    "print(\"append method use list :\",list)\n",
    "\n",
    "#--------------------------------------------------------------------\n",
    "\n",
    "#    -> extend :\n",
    "#        insert() inserts and item in a specified position in the list.\n",
    "\n",
    "list1=[1,3.33,\"chirag\"]\n",
    "list2=[10,20,30]\n",
    "list1.extend(list2)   # list2 in extend list1\n",
    "print(\"extend method use list :\",list1)\n",
    "  \n",
    "list1=[1,5,3,21]\n",
    "list1.insert(2,\"Django\")\n",
    "print(\"insert method use list :\",list1)"
   ]
  },
  {
   "cell_type": "code",
   "execution_count": 3,
   "id": "d690d35c",
   "metadata": {
    "scrolled": true
   },
   "outputs": [
    {
     "name": "stdout",
     "output_type": "stream",
     "text": [
      "Enter element :6\n",
      "value= 14\n",
      "value= 59\n",
      "value= 68\n",
      "value= 1236\n",
      "value= 584\n",
      "value= 36\n",
      "list is =  [14, 59, 68, 1236, 584, 36]\n",
      "largest number  = 1236\n",
      "smallest number = 14\n",
      "all list sum is  1997\n"
     ]
    }
   ],
   "source": [
    "#Q.4-> Write a python function to get the largest number,smallest num and sum of all from a list.\n",
    "\n",
    "def number(a):\n",
    "    print(\"largest number  =\",max(list)) # list of max number\n",
    "    print(\"smallest number =\",min(list)) # list of min number\n",
    "    sum=0\n",
    "    for i in list:\n",
    "        sum+=i\n",
    "    print(\"all list sum is \",sum)  # list of oll element addition   \n",
    "\n",
    "list=[]  # stor in list of input val\n",
    "n=int(input(\"Enter element :\"))\n",
    "for i in range(n): # loop in range input num\n",
    "    list.append(int(input(\"value= \"))) # input valu\n",
    "print(\"list is = \",list)    # print input list        \n",
    "number(list)\n"
   ]
  },
  {
   "cell_type": "code",
   "execution_count": 5,
   "id": "90194805",
   "metadata": {
    "scrolled": true
   },
   "outputs": [
    {
     "name": "stdout",
     "output_type": "stream",
     "text": [
      "Enter element of list1:4\n",
      "value=32\n",
      "value=36\n",
      "value=14\n",
      "value=25\n",
      "list1 is= [32, 36, 14, 25]\n",
      "Enter element of list2 :4\n",
      "value=32\n",
      "value=36\n",
      "value=14\n",
      "value=25\n",
      "list2 is= [32, 36, 14, 25]\n",
      "Ascending list1= [14, 25, 32, 36]\n",
      "Ascending list1= [14, 25, 32, 36]\n",
      "\n",
      "\n",
      "[The list1 and list2 are equal]\n"
     ]
    }
   ],
   "source": [
    "#Q.5--> How will you compare two list?\n",
    "#list1=['ch','chirag','c','chi','chir','chira']\n",
    "#list2=['chirag','chi','c','ch','chira','chir']\n",
    "\n",
    "list1=[]    # storge in list1 of input value\n",
    "n=int(input(\"Enter element of list1:\"))\n",
    "for i in range(n):   # loop in range input num\n",
    "    list1.append(int(input(\"value=\"))) # input value\n",
    "print(\"list1 is=\",list1) \n",
    "\n",
    "list2=[]  # storge in list2 of input value\n",
    "n=int(input(\"Enter element of list2 :\"))\n",
    "for i in range(n): # loop in range input num\n",
    "    list2.append(int(input(\"value=\"))) # input value\n",
    "print(\"list2 is=\",list2)\n",
    "\n",
    "list1.sort() # sort method use Ascending value \n",
    "print(\"Ascending list1=\",list1)\n",
    "list2.sort()\n",
    "print(\"Ascending list1=\",list2)\n",
    "print(\"\\n\")\n",
    "if (list1 == list2): # check list1 & list2 are eqal\n",
    "    print(\"[The list1 and list2 are equal]\")\n",
    "else:\n",
    "    print(\"[The list1 and list2 are  not equal]\")\n"
   ]
  },
  {
   "cell_type": "code",
   "execution_count": 4,
   "id": "8d926904",
   "metadata": {},
   "outputs": [
    {
     "name": "stdout",
     "output_type": "stream",
     "text": [
      "Enter element of list1:5\n",
      "value=safa\n",
      "value=chiragc\n",
      "value=234252\n",
      "value=cwfesg\n",
      "value=dsbgdg\n",
      "list1 is= ['safa', 'chiragc', '234252', 'cwfesg', 'dsbgdg']\n",
      "chiragc\n",
      "234252\n",
      "tha givan words are= [2]\n"
     ]
    }
   ],
   "source": [
    "#Q.6--> Write a python program to count the number of string where the string length is 2 or more and\n",
    "#       the first and last charactar are same from a givan list of strings.\n",
    "count=0\n",
    "list1=[]    # stor in list1 of input value\n",
    "n=int(input(\"Enter element of list1:\"))\n",
    "for i in range(n):   # loop in range input num\n",
    "    list1.append(input(\"value=\")) # input value\n",
    "print(\"list1 is=\",list1) \n",
    "\n",
    "for i in list1:  # using loop\n",
    "    if len(i) >= 2 and i[0] == i[-1]:   # use first & last charactar are same\n",
    "        print(i) \n",
    "        count+=1   # element of i count\n",
    "print(\"tha givan words are=\",[count])\n",
    "      "
   ]
  },
  {
   "cell_type": "code",
   "execution_count": 1,
   "id": "923a9860",
   "metadata": {},
   "outputs": [
    {
     "name": "stdout",
     "output_type": "stream",
     "text": [
      "orignal list  [10, 50, 40, 30, 30, 10, 302, 10]\n",
      "{40, 10, 302, 50, 30}\n",
      "List After removing duplicates  {40, 10, 302, 50, 30}\n",
      "------------------------------------\n",
      "List After removing duplicates  [10, 50, 40, 30, 302]\n"
     ]
    }
   ],
   "source": [
    "#Q.7--> Write a python program to remove duplicates from a list.\n",
    "\n",
    "list= [10,50,40,30,30,10,302,10]\n",
    "print(\"orignal list \", list)\n",
    "set1=set(list)  # convert list into set\n",
    "print(set1)\n",
    "print(\"List After removing duplicates \", set1)\n",
    "print(\"------------------------------------\")\n",
    "list1 = []   # storage list item\n",
    "for i in list:   \n",
    "    if i not in list1:  # check list not in i\n",
    "        list1.append(i)   # add list to append\n",
    "print(\"List After removing duplicates \", list1)\n"
   ]
  },
  {
   "cell_type": "code",
   "execution_count": 3,
   "id": "2025267f",
   "metadata": {},
   "outputs": [
    {
     "name": "stdout",
     "output_type": "stream",
     "text": [
      "The list is not Empty\n"
     ]
    }
   ],
   "source": [
    "#Q.5-->Write a python program to check a list is empty or not.\n",
    "list1=[10,20]\n",
    "if len(list1) == 0: # check to list  of length\n",
    "    print(\"The list is Empty\")    \n",
    "else:\n",
    "    print(\"The list is not Empty\")\n"
   ]
  },
  {
   "cell_type": "code",
   "execution_count": 1,
   "id": "73bf4c7e",
   "metadata": {
    "scrolled": false
   },
   "outputs": [
    {
     "name": "stdout",
     "output_type": "stream",
     "text": [
      "Enter element of list1:5\n",
      "value=12\n",
      "value=13\n",
      "value=25\n",
      "value=36\n",
      "value=45\n",
      "Enter element of list2 :5\n",
      "value=98\n",
      "value=85\n",
      "value=47\n",
      "value=36\n",
      "value=12\n",
      "list1 is= [12, 13, 25, 36, 45]\n",
      "list2 is= [98, 85, 47, 36, 12]\n",
      "[two list is comman item is 12]\n",
      "[two list is comman item is 36]\n",
      "[Two list are not comman]\n"
     ]
    }
   ],
   "source": [
    "# Q.9--> write a python function that takes two lists and returns true if thay have at least one comman member.\n",
    "def comman_member(a,b):        # fanction decleretion\n",
    "    for a in list1:  # list1 number\n",
    "        for b in list2: # list2 number\n",
    "            if a == b:  # check comman number\n",
    "                print(f\"[two list is comman item is {a}]\")\n",
    "    else:\n",
    "        print(\"[Two list are not comman]\")\n",
    "                \n",
    "list1=[]   # stor in list1 of input value   \n",
    "n=int(input(\"Enter element of list1:\"))\n",
    "for i in range(n): # loop in range input number\n",
    "    list1.append(int(input(\"value=\"))) # input element list1 in append\n",
    "\n",
    "list2=[]  # stor in list2 of input value\n",
    "n=int(input(\"Enter element of list2 :\"))\n",
    "for i in range(n): # loop in range input number\n",
    "    list2.append(int(input(\"value=\")))  # input element list2 in append\n",
    "print(\"list1 is=\",list1)\n",
    "print(\"list2 is=\",list2)\n",
    "comman_member(list1,list2)   # call function\n",
    "        \n",
    "# def coman_num(l1,l2):\n",
    "#     for a in list1:\n",
    "#         for b in list2:\n",
    "#             if a == b:\n",
    "#                 print(f\"Two lists are coman={a}\")\n",
    "#                 return True\n",
    "# list1=[5,3,98,5,41,36]\n",
    "# list2=[8,3,36,5,78,36]\n",
    "\n",
    "# print(coman_num(list1,list2)) \n",
    "            "
   ]
  },
  {
   "cell_type": "code",
   "execution_count": 11,
   "id": "10feeea8",
   "metadata": {
    "scrolled": false
   },
   "outputs": [
    {
     "name": "stdout",
     "output_type": "stream",
     "text": [
      "1 2 3 4 5 6 7 8 9 10 11 12 13 14 15 16 17 18 19 20 21 22 23 24 25 26 27 28 29 30 \n",
      "\n",
      "[1, 4, 9, 16, 25] \n",
      " [676, 729, 784, 841, 900]\n"
     ]
    }
   ],
   "source": [
    "#Q.10--> Write a python program to ganerate and print a list of first and last 5 elements where\n",
    "#       the values are square of numbers beetween 1 and 30.\n",
    "\n",
    "list1=[]  # storege list of square number\n",
    "for i in range(1,31): # range 1 - 30\n",
    "    print(i,end=\" \")\n",
    "    list1.append(i**2)   # i powar 2\n",
    "print(\"\\n\")    \n",
    "print(list1[:5],\"\\n\",list1[-5:])  # first 0 to 5 and last -1 to -5 element in square "
   ]
  },
  {
   "cell_type": "code",
   "execution_count": 5,
   "id": "a1946e31",
   "metadata": {
    "scrolled": false
   },
   "outputs": [
    {
     "name": "stdout",
     "output_type": "stream",
     "text": [
      "Enter element of list1:10\n",
      "value=10\n",
      "value=20\n",
      "value=30\n",
      "value=40\n",
      "value=50\n",
      "value=10\n",
      "value=50\n",
      "value=30\n",
      "value=40\n",
      "value=88\n",
      "[40, 10, 50, 20, 88, 30]\n"
     ]
    }
   ],
   "source": [
    "#Q.11--> Write a python function that takes a list and return a new list with unique elements of the first list.\n",
    "\n",
    "# list= [10,25,33,58,63,21,48,77,33,27]\n",
    "# print(\"orignal list \", list)\n",
    "# list1 = []  # define in stroge unique element\n",
    "# for i in list:\n",
    "#     if i not in list1:\n",
    "#         list1.append(i**2)   # i powar 2\n",
    "# list = list1\n",
    "# print(\"unique list=\",list[2:7])  # print 2 to 6\n",
    "\n",
    "def unique(list1):\n",
    "    list1=set(list1)\n",
    "    set1=list(list1)\n",
    "    print(set1)\n",
    "list1=[]   # stor in list1 of input value   \n",
    "n=int(input(\"Enter element of list1:\"))\n",
    "for i in range(n): # loop in range input number\n",
    "    list1.append(int(input(\"value=\"))) # input element list1 in append\n",
    "unique(list1)\n"
   ]
  },
  {
   "cell_type": "code",
   "execution_count": 7,
   "id": "be270acd",
   "metadata": {},
   "outputs": [
    {
     "name": "stdout",
     "output_type": "stream",
     "text": [
      "chirag\n"
     ]
    }
   ],
   "source": [
    "#Q.12--> Write a Python program to convert a list of characters into a string.\n",
    "\n",
    "list=['c','h','i','r','a','g']\n",
    "str=\"\".join(list)     # using join method convert list into string\n",
    "print(str)"
   ]
  },
  {
   "cell_type": "code",
   "execution_count": 9,
   "id": "6d58aee8",
   "metadata": {},
   "outputs": [
    {
     "name": "stdout",
     "output_type": "stream",
     "text": [
      "python\n"
     ]
    }
   ],
   "source": [
    "#Q.13-->Write a Python program to select an item randomly from a list. \n",
    "import random  # use rendom module\n",
    "list=['python','.net','go','nodajs','php','html','css','javascript','laraval']\n",
    "list1=random.choice(list) # reandamly list to words\n",
    "print(list1)\n"
   ]
  },
  {
   "cell_type": "code",
   "execution_count": 6,
   "id": "a1f6cd29",
   "metadata": {},
   "outputs": [
    {
     "name": "stdout",
     "output_type": "stream",
     "text": [
      "first smallst number is  [15]\n",
      "second smallest number is [23]\n"
     ]
    }
   ],
   "source": [
    "#Q.14-->Write a Python program to find the second smallest number in a list.\n",
    "list=[50,748,23,154,89,632,15,48,259,88,47,96,66,58,77,96]\n",
    "list.sort()  # sort method use to list Ascending\n",
    "print(\"first smallst number is \",[list[0]]) # 0 index first smallst number\n",
    "print(\"second smallest number is\",[list[1]])  # 1 index second smallest number"
   ]
  },
  {
   "cell_type": "code",
   "execution_count": 11,
   "id": "44505308",
   "metadata": {},
   "outputs": [
    {
     "name": "stdout",
     "output_type": "stream",
     "text": [
      "Enter total element :5\n",
      "value=chirag\n",
      "value=12\n",
      "value=python\n",
      "value=chirag\n",
      "value=12\n",
      "orignal list= ['chirag', '12', 'python', 'chirag', '12']\n",
      "unique values= {'chirag', '12', 'python'}\n"
     ]
    }
   ],
   "source": [
    "#Q.15--> Write a Python program to get unique values from a list \n",
    "list1=[] # stroge input list value\n",
    "n=int(input(\"Enter total element :\"))\n",
    "for i in range(n): # input n number is range\n",
    "    list1.append(input(\"value=\")) # input value to append list1\n",
    "print(\"orignal list=\",list1) \n",
    "d_value=set(list1) # convert list into set\n",
    "list=d_value # d_value assigen list\n",
    "print(\"unique values=\",list)\n"
   ]
  },
  {
   "cell_type": "code",
   "execution_count": 1,
   "id": "9d188558",
   "metadata": {
    "scrolled": true
   },
   "outputs": [
    {
     "name": "stdout",
     "output_type": "stream",
     "text": [
      "Enter total element :5\n",
      "value of list=['chirag',2.33]\n",
      "value of list=[3.33,5,6]\n",
      "value of list=['python',\"5 :hallo\"]\n",
      "value of list=10,20\n",
      "value of list=hallo\n",
      "orignal list= [\"['chirag',2.33]\", '[3.33,5,6]', '[\\'python\\',\"5 :hallo\"]', '10,20', 'hallo']\n",
      "sublist is present in list\n"
     ]
    }
   ],
   "source": [
    "#Q.16--> Write a Python program to check whether a list contains a sub list.\n",
    "#list=[10,['chirag',2.33],[3.33,5,6],['python',\"5 :hallo\"]]\n",
    "list1=[]   # stroge input list value\n",
    "n=int(input(\"Enter total element :\"))\n",
    "for i in range(n): # loop in range n input number\n",
    "    list1.append(input(\"value of list=\")) # input value to append list1\n",
    "print(\"orignal list=\",list1)  \n",
    "for i in list1:\n",
    "    if len(list1) > 1: # list1 in length greter then 1\n",
    "        print(\"sublist is present in list\")\n",
    "        break  # stop\n",
    "    else:\n",
    "        print(\"sub list is present not in list\")"
   ]
  },
  {
   "cell_type": "code",
   "execution_count": 13,
   "id": "62f813d2",
   "metadata": {},
   "outputs": [
    {
     "name": "stdout",
     "output_type": "stream",
     "text": [
      "int= 120\n",
      "float= 87.36\n",
      "string= chirag\n"
     ]
    }
   ],
   "source": [
    "#Q.17--> Write a Python program to split a list into different variables.\n",
    "list=[120,87.36,'chirag']\n",
    "a,b,c = list   # a,b,c in spilt list value\n",
    "print(\"int=\",a)\n",
    "print(\"float=\",b)\n",
    "print(\"string=\",c)"
   ]
  },
  {
   "cell_type": "code",
   "execution_count": null,
   "id": "745e361d",
   "metadata": {},
   "outputs": [],
   "source": [
    "Q.18--> What is tuple? Difference between list and tuple.\n",
    "ans --> Tuples are used to store multiple items in a single variable.\n",
    "    ->  Tuple is one of 4 built-in data types in Python used to store collections of data, \n",
    "        the other 3 are List, Set, and Dictionary, all with different qualities and usage. \n",
    "    ->  A tuple is a collection which is ordered and unchangeable\n",
    "    ->  tuple is allowed duplicate.\n",
    "    ->  tuple is immutable.\n",
    "    ->  tuple is defind is round breck.()\n",
    "    \n",
    "==> Difference between list and tuple. \n",
    "  \n",
    "        list                                              tuple\n",
    "\n",
    "->list is mutable.                              -> tuple is immutable.\n",
    "->list iteration is slower and                  -> tuple iteration is faster.\n",
    "  is time consuming.                            \n",
    "->list consumes more memory.                    ->tuple consumes less memory.\n",
    "->list operation are more error                 ->tuple operations are safe.\n",
    "  prone.\n",
    "->list provide many in-built                    ->tuple have less in-bulit methode.\n",
    "  methode. \n",
    "->list useful for insertion ans                 ->tuple is usefull foe rendonly operations\n",
    "  deletoin operations.                            like accesisung elements."
   ]
  },
  {
   "cell_type": "code",
   "execution_count": 8,
   "id": "c6aaf643",
   "metadata": {},
   "outputs": [
    {
     "name": "stdout",
     "output_type": "stream",
     "text": [
      "Enter total element :5\n",
      "value of list=hallo\n",
      "value of list=1:chirag\n",
      "value of list=10.32\n",
      "value of list=\n",
      "value of list=25\n",
      "['hallo', '1:chirag', '10.32', '', '25']\n",
      "<class 'list'>\n",
      "('hallo', '1:chirag', '10.32', '', '25')\n",
      "<class 'tuple'>\n"
     ]
    }
   ],
   "source": [
    "#Q.19--> Write a Python program to create a tuple with different data types.      \n",
    "list=[] # stroge input list\n",
    "n=int(input(\"Enter total element :\"))\n",
    "for i in range(n): # loop range input n number\n",
    "    list.append(input(\"value of list=\")) # input value append list\n",
    "print(list)    \n",
    "    \n",
    "print(type(list)) # type list\n",
    "tuple=tuple(list)  # convert list to a tuple\n",
    "print(tuple)\n",
    "print(type(tuple))   # type tuple    \n"
   ]
  },
  {
   "cell_type": "code",
   "execution_count": 4,
   "id": "aac8670e",
   "metadata": {},
   "outputs": [
    {
     "name": "stdout",
     "output_type": "stream",
     "text": [
      "(10, 50, 30, 40, 20, 30, 70)\n",
      "(50,)\n",
      "<class 'tuple'>\n",
      "<class 'tuple'>\n"
     ]
    }
   ],
   "source": [
    "#Q.20-->Write a Python program to create a tuple with numbers\n",
    "A_tuple=(10,50,30,40,20,30,70) # tuple create with number\n",
    "print(A_tuple)\n",
    "B_tuple=(50,)   # tuple create single number\n",
    "print(B_tuple)\n",
    "print(type(A_tuple))\n",
    "print(type(B_tuple))\n",
    "\n"
   ]
  },
  {
   "cell_type": "code",
   "execution_count": 8,
   "id": "40b0fd1f",
   "metadata": {},
   "outputs": [
    {
     "ename": "TypeError",
     "evalue": "'str' object is not callable",
     "output_type": "error",
     "traceback": [
      "\u001b[1;31m---------------------------------------------------------------------------\u001b[0m",
      "\u001b[1;31mTypeError\u001b[0m                                 Traceback (most recent call last)",
      "\u001b[1;32m~\\AppData\\Local\\Temp\\ipykernel_6484\\1526177057.py\u001b[0m in \u001b[0;36m<module>\u001b[1;34m\u001b[0m\n\u001b[0;32m      5\u001b[0m \u001b[1;31m#     str+=i  # string concetinate\u001b[0m\u001b[1;33m\u001b[0m\u001b[1;33m\u001b[0m\u001b[0m\n\u001b[0;32m      6\u001b[0m \u001b[1;31m#     print(i,end=\"\")\u001b[0m\u001b[1;33m\u001b[0m\u001b[1;33m\u001b[0m\u001b[0m\n\u001b[1;32m----> 7\u001b[1;33m \u001b[0mstr1\u001b[0m\u001b[1;33m=\u001b[0m\u001b[0mstr\u001b[0m\u001b[1;33m(\u001b[0m\u001b[0mtuple1\u001b[0m\u001b[1;33m)\u001b[0m\u001b[1;33m\u001b[0m\u001b[1;33m\u001b[0m\u001b[0m\n\u001b[0m\u001b[0;32m      8\u001b[0m \u001b[0mprint\u001b[0m\u001b[1;33m(\u001b[0m\u001b[0mstr1\u001b[0m\u001b[1;33m)\u001b[0m\u001b[1;33m\u001b[0m\u001b[1;33m\u001b[0m\u001b[0m\n",
      "\u001b[1;31mTypeError\u001b[0m: 'str' object is not callable"
     ]
    }
   ],
   "source": [
    "#Q.21-->Write a Python program to convert a tuple to a string. \n",
    "tuple1=('c','h','i','r','a','g','','k','a','t','r','o','d','i','y','a')\n",
    "str=\"\" # stroage tuple in string\n",
    "for i in tuple:\n",
    "    str+=i  # string concetinate\n",
    "    print(i,end=\"\")"
   ]
  },
  {
   "cell_type": "code",
   "execution_count": 6,
   "id": "bc71e1cb",
   "metadata": {},
   "outputs": [
    {
     "name": "stdout",
     "output_type": "stream",
     "text": [
      "True\n",
      "False\n"
     ]
    }
   ],
   "source": [
    "#Q.22--> Write a Python program to check whether an element exists within a tuple.\n",
    "\n",
    "tuple=('chirag',18,96.35, '1:hallo',50,33.32,20,'python')\n",
    "print('python' in tuple)  # check words in tuple\n",
    "print(100 in tuple)   # check number in tuple"
   ]
  },
  {
   "cell_type": "code",
   "execution_count": 7,
   "id": "69fe2203",
   "metadata": {},
   "outputs": [
    {
     "name": "stdout",
     "output_type": "stream",
     "text": [
      "11\n"
     ]
    }
   ],
   "source": [
    "#Q.23--> Write a Python program to find the length of a tuple. \n",
    "\n",
    "tuple=('chirag',18,96.35, '1:hallo',50,33.32,20,'python',32,36.33,'katrodiya')\n",
    "print(len(tuple))   # find to a length of len fanction\n"
   ]
  },
  {
   "cell_type": "code",
   "execution_count": 1,
   "id": "9aeda075",
   "metadata": {},
   "outputs": [
    {
     "name": "stdout",
     "output_type": "stream",
     "text": [
      "Enter total element :4\n",
      "value of list=10.33\n",
      "value of list=chirag\n",
      "value of list=125\n",
      "value of list=python\n",
      "list is  ['10.33', 'chirag', '125', 'python']\n",
      "<class 'list'>\n",
      "tuple is ('10.33', 'chirag', '125', 'python')\n",
      "<class 'tuple'>\n"
     ]
    }
   ],
   "source": [
    "#Q.24--> Write a Python program to convert a list to a tuple. \n",
    "\n",
    "list=[] # stroge input list\n",
    "n=int(input(\"Enter total element :\"))\n",
    "for i in range(n):  # input n number range in loop\n",
    "    list.append(input(\"value of list=\"))  # input value append list\n",
    "print(\"list is \",list)    \n",
    "print(type(list))  # check type\n",
    "tu=tuple(list) # convert list into tuple\n",
    "print(f\"tuple is {tu}\")\n",
    "print(type(tu))   # check type\n",
    "\n"
   ]
  },
  {
   "cell_type": "code",
   "execution_count": 2,
   "id": "b99a37d6",
   "metadata": {},
   "outputs": [
    {
     "name": "stdout",
     "output_type": "stream",
     "text": [
      "reverse typle= ('katrodiya', 36.33, 32, 'python', 20, 33.32, 50, '1:hallo', 96.35, 18, 'chirag')\n"
     ]
    }
   ],
   "source": [
    "#Q.25--> Write a Python program to reverse a tuple. \n",
    "\n",
    "tuple=('chirag',18,96.35, '1:hallo',50,33.32,20,'python',32,36.33,'katrodiya')\n",
    "reverse=tuple[::-1]  # reverse tuple in strting -1 index \n",
    "print(\"reverse typle=\",reverse)"
   ]
  },
  {
   "cell_type": "code",
   "execution_count": 2,
   "id": "8cec8764",
   "metadata": {},
   "outputs": [
    {
     "name": "stdout",
     "output_type": "stream",
     "text": [
      "[(0, 1, 2, 'chirag'), (4, 5, 7, 'chirag'), (8, 9, 10, 'chirag'), (12, 13, 14, 'chirag')]\n"
     ]
    }
   ],
   "source": [
    "#Q.26--> Write a Python program to replace last value of tuples in a list. \n",
    "list1 = [(0,1,2,3), (4,5,7,8), (8, 9, 10,11),(12,13,14,15)]\n",
    "for i in range(len(list1)):  # Loop through each tuple in the list and replace its last value with the new value\n",
    "    list1[i] = list1[i][:-1] + (\"chirag\",)\n",
    "\n",
    "print(list1)   # Print the updated list of tuples\n"
   ]
  },
  {
   "cell_type": "code",
   "execution_count": 4,
   "id": "d09e44e0",
   "metadata": {},
   "outputs": [
    {
     "name": "stdout",
     "output_type": "stream",
     "text": [
      "4\n"
     ]
    }
   ],
   "source": [
    "#Q.27--> Write a Python program to find the repeated items of a tuple.\n",
    "tuple=(10,20,30,40,10,30,40,10,80,10,78,635)\n",
    "count=tuple.count(10)   # tuple count method use\n",
    "print(count)\n",
    "   "
   ]
  },
  {
   "cell_type": "code",
   "execution_count": 1,
   "id": "f1a33e93",
   "metadata": {
    "scrolled": true
   },
   "outputs": [
    {
     "name": "stdout",
     "output_type": "stream",
     "text": [
      "orignal list = [(10, 'hallo'), (), (23.3, 22, 74), (), ('python', '1:chirag'), (25, 54), ' ']\n",
      "remove empty list = [(10, 'hallo'), (23.3, 22, 74), ('python', '1:chirag'), (25, 54), ' ']\n"
     ]
    }
   ],
   "source": [
    "#Q.28--> Write a Python program to remove an empty tuple(s) from a list of tuples.\n",
    "list=[(10,'hallo'),(  ),(23.3,22,74),(),('python','1:chirag'),(25,54),(\" \")]\n",
    "print(\"orignal list =\",list)\n",
    "for i in list:  \n",
    "    if(len(i)==0):   # check tuple length 0 \n",
    "        list.remove(i) #  index list remove\n",
    "print(\"remove empty list =\",list)        \n"
   ]
  },
  {
   "cell_type": "code",
   "execution_count": 5,
   "id": "e674c59e",
   "metadata": {},
   "outputs": [
    {
     "name": "stdout",
     "output_type": "stream",
     "text": [
      "unzip list=[(1, 3, 8), (2, 4, 9)]\n"
     ]
    }
   ],
   "source": [
    "#Q.29-->Write a Python program to unzip a list of tuples into individual lists. \n",
    "\n",
    "list1=[(1,2),(3,4),(8,9)]\n",
    "list1=list(zip(*list1))  # using zip method\n",
    "print(f\"unzip list={list1}\")\n",
    "\n"
   ]
  },
  {
   "cell_type": "code",
   "execution_count": 10,
   "id": "e1914465",
   "metadata": {},
   "outputs": [
    {
     "name": "stdout",
     "output_type": "stream",
     "text": [
      "Dictnory is={'chirag': 10, 'sanjay': 20, 'anand': 30, 'nandan': 40, 'akhil': 50, 'ashish': 60}\n"
     ]
    }
   ],
   "source": [
    "#Q.30--> Write a Python program to convert a list of tuples into a dictionary.\n",
    "list1=[(\"chirag\",10), (\"sanjay\", 20), (\"anand\", 30),(\"nandan\", 40), (\"akhil\", 50), (\"ashish\", 60)]\n",
    "dict1=dict(list1)   # convert list in to dictionary\n",
    "print(f\"Dictnory is={dict1}\")\n",
    "   "
   ]
  },
  {
   "cell_type": "code",
   "execution_count": null,
   "id": "a4e7cd10",
   "metadata": {},
   "outputs": [],
   "source": [
    "num=int(input(\"enter num :\"))\n",
    "sum=0\n",
    "for i in range(0,num,2):\n",
    "        print(i,end=\"+\")\n",
    "        sum+=i\n",
    "print(\"\\n Even num sum is\",sum)\n",
    "sum=0\n",
    "for i in range(1,num,2):\n",
    "    print(i,end=\"+\")\n",
    "    sum+=i\n",
    "print(\"\\n odd num sum is\",sum)"
   ]
  },
  {
   "cell_type": "code",
   "execution_count": 9,
   "id": "eeb7a907",
   "metadata": {},
   "outputs": [
    {
     "name": "stdout",
     "output_type": "stream",
     "text": [
      "\u001b[33mchirag katrodiya\n"
     ]
    }
   ],
   "source": [
    "from colorama import Fore\n",
    "print(Fore.YELLOW+\"chirag katrodiya\")"
   ]
  },
  {
   "cell_type": "code",
   "execution_count": null,
   "id": "17ccb37d",
   "metadata": {},
   "outputs": [],
   "source": []
  }
 ],
 "metadata": {
  "kernelspec": {
   "display_name": "Python 3 (ipykernel)",
   "language": "python",
   "name": "python3"
  },
  "language_info": {
   "codemirror_mode": {
    "name": "ipython",
    "version": 3
   },
   "file_extension": ".py",
   "mimetype": "text/x-python",
   "name": "python",
   "nbconvert_exporter": "python",
   "pygments_lexer": "ipython3",
   "version": "3.9.13"
  }
 },
 "nbformat": 4,
 "nbformat_minor": 5
}
