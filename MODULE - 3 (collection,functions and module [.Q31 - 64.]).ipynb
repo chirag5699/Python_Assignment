{
 "cells": [
  {
   "cell_type": "code",
   "execution_count": null,
   "id": "d08d732e",
   "metadata": {},
   "outputs": [],
   "source": [
    "#Q.31--> How will you create a dictionary using tuples in python?\n",
    "ans : In Python, use the dict() function to convert a tuple to a dictionary.\n",
    "      A dictionary object can be created with the dict() function.\n",
    "      The dictionary is returned by the dict() method, which takes a tuple of tuples as an argument. \n",
    "      A key-value pair is contained in each tuple.\n"
   ]
  },
  {
   "cell_type": "code",
   "execution_count": 2,
   "id": "20486da7",
   "metadata": {
    "scrolled": true
   },
   "outputs": [
    {
     "name": "stdout",
     "output_type": "stream",
     "text": [
      "ascending dict {'anand': 2, 'chirag': 4, 'jaydip': 1, 'keval': 3, 'nandan': 5, 'sanjay': 6}\n",
      "descending dict {'sanjay': 6, 'nandan': 5, 'keval': 3, 'jaydip': 1, 'chirag': 4, 'anand': 2}\n"
     ]
    }
   ],
   "source": [
    "#Q.32--> Write a Python script to sort (ascending and descending) a dictionary by value\n",
    "dict1={'chirag': 4, 'sanjay': 6, 'anand': 2, 'nandan': 5, 'jaydip': 1, 'keval': 3}\n",
    "list1=list(dict1.keys())   # list only keys get\n",
    "list1.sort()      # list ascending  sort method\n",
    "dict2={}      # Empty dict\n",
    "for i in list1:\n",
    "    dict2.update({i:dict1[i]})    # dict2 update \n",
    "    \n",
    "print(\"ascending dict\",dict2)   # print ascending dict\n",
    "\n",
    "dict1={'chirag': 4, 'sanjay': 6, 'anand': 2, 'nandan': 5, 'jaydip': 1, 'keval': 3}\n",
    "list1=list(dict1.keys())   # list only keys get\n",
    "list1.sort(reverse=True)    # list descending sort method    \n",
    "dict2={}\n",
    "for i in list1:\n",
    "    dict2.update({i:dict1[i]})   # dict2 update \n",
    "    \n",
    "print(\"descending dict\",dict2)     # print descending  dict"
   ]
  },
  {
   "cell_type": "code",
   "execution_count": null,
   "id": "98888af6",
   "metadata": {},
   "outputs": [],
   "source": []
  },
  {
   "cell_type": "code",
   "execution_count": 5,
   "id": "c993d73f",
   "metadata": {},
   "outputs": [
    {
     "name": "stdout",
     "output_type": "stream",
     "text": [
      "concatenate dict {'brand': 'apple', 'chirag': 10, 'model': 'Mustang', '125': 10, 'python': 1, 'year': 1964}\n"
     ]
    }
   ],
   "source": [
    "#Q.33--> Write a Python script to concatenate following dictionaries to create a new one.\n",
    "    \n",
    "dict1={'brand':'apple','chirag':10,'model': 'Mustang'}\n",
    "dict2={'125':10,'python':1,\"year\": 1964}\n",
    "\n",
    "dict3={}  # storeg dict1 & dict2\n",
    "for i in (dict1,dict2):   \n",
    "        dict3.update(i)  # dict1,dict2 update dict3 update method   \n",
    "print(\"concatenate dict\",dict3)\n"
   ]
  },
  {
   "cell_type": "code",
   "execution_count": 3,
   "id": "959aec13",
   "metadata": {
    "scrolled": true
   },
   "outputs": [
    {
     "name": "stdout",
     "output_type": "stream",
     "text": [
      "Enter key :python\n",
      "kay is already exists\n"
     ]
    }
   ],
   "source": [
    "#Q.34--> Write a Python script to check if a given key already exists in a dictionary\n",
    "dict1={'brand': 'apple','chirag': 10,'model':'apple', '125': 1964, 'python': 10, 'year': 1964}\n",
    "a=input(\"Enter key :\")   # input key to check key in exit or not\n",
    "if a in dict1:    # a variabal check to dict1 (in opp) \n",
    "    print(\"kay is already exists\")\n",
    "elif a not in dict1:  # not in opp\n",
    "    print(\"kay not exists\")\n",
    "else:\n",
    "    pass\n"
   ]
  },
  {
   "cell_type": "code",
   "execution_count": null,
   "id": "97dd5bca",
   "metadata": {},
   "outputs": [],
   "source": [
    " Q.35-->How Do You Traverse Through A Dictionary Object In Python? \n",
    "->Using dict. items() Method. ...\n",
    "->Using Keys() Method. ...\n",
    "->Using Values() Method. ...\n",
    "->Iterating with Index. ...\n",
    "->Iterating Over Dictionary In Alphabetical Order. ...\n",
    "->Sort Using Dictionary Item Values."
   ]
  },
  {
   "cell_type": "code",
   "execution_count": null,
   "id": "450a2899",
   "metadata": {},
   "outputs": [],
   "source": [
    " Q.36->How Do You Check The Presence Of A Key In A Dictionary?\n",
    "\n",
    "-->You can check if a key exists in the dictionary in Python using the keys() method of the dictionary class.\n",
    "   The keys() method returns a view object of keys (something similar to a collection) in which you can search\n",
    "    for the required key using the in operator we saw earlier."
   ]
  },
  {
   "cell_type": "code",
   "execution_count": 11,
   "id": "5a7d7064",
   "metadata": {},
   "outputs": [
    {
     "name": "stdout",
     "output_type": "stream",
     "text": [
      "{1: 1, 2: 4, 3: 9, 4: 16, 5: 25, 6: 36, 7: 49, 8: 64, 9: 81, 10: 100, 11: 121, 12: 144, 13: 169, 14: 196, 15: 225}\n"
     ]
    }
   ],
   "source": [
    "#Q.37-->Write a Python script to print a dictionary where the keys are numbers between 1 and 15.\n",
    "\n",
    "# dict1={}  # storeg in dict \n",
    "# for i in range(1,16):\n",
    "#     dict1[i]=i**2 # print value in i**2   \n",
    "# print(dict1)  # print new dict1\n",
    "dict1 = {i : i**2 for i in range(1,16)}  \n",
    "print(dict1)"
   ]
  },
  {
   "cell_type": "code",
   "execution_count": 14,
   "id": "1504fecf",
   "metadata": {},
   "outputs": [
    {
     "name": "stdout",
     "output_type": "stream",
     "text": [
      "{'prosesser': 'Window', 'coures': 'python', 'fees': 25000, 'year': 2023, 'book': 'vscode'}\n",
      "This key [year]  are present\n",
      "This key [bike] are not present\n",
      "This key [fees]  are present\n"
     ]
    }
   ],
   "source": [
    "#Q.38--> Write a Python program to check multiple keys exists in a dictionary \n",
    "dict1={\"prosesser\":\"Window\",\"coures\":\"python\",\"fees\":25000,\"year\":2023,\"book\":\"vscode\"}\n",
    "print(dict1)\n",
    "for key in [\"year\",\"bike\",\"fees\"]:   # check to key are presant or not\n",
    "    if key in dict1:     # check key in dict\n",
    "        print(f\"This key [{key}]  are present\")  # key is presant\n",
    "    else:\n",
    "        print(f\"This key [{key}] are not present\")   # key in not present\n",
    "\n",
    "\n"
   ]
  },
  {
   "cell_type": "code",
   "execution_count": 39,
   "id": "2c173b93",
   "metadata": {},
   "outputs": [
    {
     "name": "stdout",
     "output_type": "stream",
     "text": [
      "{'bike': 'unicorn', 'brand': 'apple', 'x': 3001, 'y': 200}\n"
     ]
    }
   ],
   "source": [
    "#Q.39-->Write a Python script to merge two Python dictionaries\n",
    "\n",
    "dict1 = {'bike': 'unicorn', 'brand': 'apple'}\n",
    "dict2 = {'x': 3001, 'y': 200}\n",
    "dict3={}   # stroage dict value\n",
    "\n",
    "for i in (dict1,dict2):\n",
    "    dict3.update(i)\n",
    "print(dict3)    "
   ]
  },
  {
   "cell_type": "code",
   "execution_count": 45,
   "id": "1b8b925a",
   "metadata": {},
   "outputs": [
    {
     "name": "stdout",
     "output_type": "stream",
     "text": [
      "{'Firstname': 'chirag', 'middalname': 'jayantibhai', 'Lastname': 'katrodiya'}\n"
     ]
    }
   ],
   "source": [
    "#Q.40-->Write a Python program to map two lists into a dictionary\n",
    "\n",
    "keys = ['Firstname', 'middalname', 'Lastname']\n",
    "values = ['chirag','jayantibhai', 'katrodiya']\n",
    "dictionary = dict(zip(keys, values))   # kay & value to zip \n",
    "print(dictionary)\n"
   ]
  },
  {
   "cell_type": "code",
   "execution_count": 8,
   "id": "3fd3bf3d",
   "metadata": {
    "scrolled": true
   },
   "outputs": [
    {
     "name": "stdout",
     "output_type": "stream",
     "text": [
      "{'a': 400, 'b': 400, 'd': 400, 'e': 600, 'c': 300}\n"
     ]
    }
   ],
   "source": [
    " #Q.41--> Write a Python program to combine two dictionary adding values for common keys.\n",
    "dict1 = {'a': 100, 'b': 200, 'c':300,'e':500}\n",
    "dict2 = {'a': 300, 'b': 200, 'd':400,'e':100}\n",
    "for key in dict1:   \n",
    "    if key in dict2: \n",
    "        dict2[key]+=dict1[key]    #dict1 addition dict2 key  \n",
    "    else:\n",
    "        dict2[key]=dict1[key]    # dict1 to assien dict2\n",
    "print(dict2)"
   ]
  },
  {
   "cell_type": "code",
   "execution_count": 46,
   "id": "c0a45073",
   "metadata": {
    "scrolled": true
   },
   "outputs": [
    {
     "name": "stdout",
     "output_type": "stream",
     "text": [
      "{1, 2, 3, 4}\n"
     ]
    }
   ],
   "source": [
    "#Q.42-->Write a Python program to print all unique values in a dictionary.\n",
    "dict1 = {\"a\": 1, \"b\": 2, \"c\": 3, \"d\": 2, \"e\": 1,\"f\":4}\n",
    "values = set(dict1.values())   # create a set of all values in the dictionary\n",
    "print(values)    # only key get"
   ]
  },
  {
   "cell_type": "code",
   "execution_count": null,
   "id": "099d30dd",
   "metadata": {},
   "outputs": [],
   "source": [
    "Q.43--> Why Do You Use the Zip () Method in Python?\n",
    "\n",
    "--> Python’s zip() function is defined as zip(*iterables).\n",
    "    The function takes in iterables as arguments and returns an iterator. \n",
    "    This iterator generates a series of tuples containing elements from each iterable. \n",
    "    zip() can accept any type of iterable, such as files, lists, tuples, dictionaries, sets, and so on.\n"
   ]
  },
  {
   "cell_type": "code",
   "execution_count": 49,
   "id": "adb4ac14",
   "metadata": {},
   "outputs": [
    {
     "name": "stdout",
     "output_type": "stream",
     "text": [
      "ac ad bc bd "
     ]
    }
   ],
   "source": [
    "#Q.44-->Write a Python program to create and display all combinations of letters, selecting each letter from a\n",
    "#        different key in a dictionary. Sample data: {'1': ['a','b'], '2': ['c','d']}  Expected Output:  ac ad bc bd\n",
    "dict1= {'1':['a', 'b'], '2':['c', 'd']}\n",
    "list1= list(dict1.values())   # dict1 value in list\n",
    "for i in list1[0]:    # i list of 0 index\n",
    "    for j in list1[1]:    # j list of 1 index\n",
    "        print(i+j,end=\" \")     \n"
   ]
  },
  {
   "cell_type": "code",
   "execution_count": 3,
   "id": "7f61812c",
   "metadata": {},
   "outputs": [
    {
     "name": "stdout",
     "output_type": "stream",
     "text": [
      "orignal Dictionary : {'A': 67, 'B': 23, 'C': 45, 'D': 56, 'E': 12, 'F': 69, 'G': 82}\n",
      "Dictionary with 3 highest values:\n",
      "Keys: Values\n",
      "G : 82\n",
      "F : 69\n",
      "A : 67\n"
     ]
    }
   ],
   "source": [
    "# Q.45-->Write a Python program to find the highest 3 values in a dictionary\n",
    "dict1={'A': 67, 'B': 23, 'C': 45,'D': 56, 'E': 12, 'F': 69 , 'G':82}\n",
    "print(\"orignal Dictionary :\",dict1)\n",
    "print(\"Dictionary with 3 highest values:\")\n",
    "print(\"Keys: Values\")\n",
    "list1=list(dict1.values())  # dict convert in to list\n",
    "list1.sort(reverse=True)# descending dict\n",
    "list1=list1[:3]          #  list 0 to 3 index  \n",
    "for i in list1:\n",
    "        for j in dict1.keys():\n",
    "            if(dict1[j]==i):     \n",
    "                print((j)+\" : \"+str(dict1[j]))\n",
    "\n",
    "                "
   ]
  },
  {
   "cell_type": "code",
   "execution_count": 3,
   "id": "b94c64c9",
   "metadata": {},
   "outputs": [
    {
     "name": "stdout",
     "output_type": "stream",
     "text": [
      "{'item1': 1150, 'item2': 300}\n"
     ]
    }
   ],
   "source": [
    "# Q.46-->Write a Python program to combine values in python list of dictionaries. \n",
    "#     Sample data: [{'item': 'item1', 'amount': 400}, {'item': 'item2', 'amount':  300}, o {'item': 'item1', 'amount': 750}]\n",
    "\n",
    "list1=[{'item': 'item1', 'amount': 400}, {'item': 'item2', 'amount': 300}, {'item': 'item1', 'amount': 750}]    \n",
    "dict1={}     # storege in dict foram\n",
    "for i in list1:\n",
    "    if i['item'] in dict1:      # check to item in dict1\n",
    "        dict1[i['item']] += i['amount']  \n",
    "    else:\n",
    "        dict1[i['item']] = i['amount']   \n",
    "print(dict1) "
   ]
  },
  {
   "cell_type": "code",
   "execution_count": 13,
   "id": "5953e127",
   "metadata": {},
   "outputs": [
    {
     "name": "stdout",
     "output_type": "stream",
     "text": [
      "{'w': 1, '3': 1, 'r': 2, 'e': 2, 's': 1, 'o': 1, 'u': 1, 'c': 1}\n"
     ]
    }
   ],
   "source": [
    "# Q.47--> Write a Python program to create a dictionary from a string.\n",
    "#          Note: Track the count of the letters from the string.  Sample string: 'w3resource'  Expected output: \n",
    "#         {'3': 1,’s’: 1, 'r': 2, 'u': 1, 'w': 1, 'c': 1, 'e': 2, 'o': 1}\n",
    "str1= 'w3resource'\n",
    "dict1={}    # storege in dict foram\n",
    "for i in str1:  # check to str1\n",
    "    if i in dict1:    # char in dict1 +1 \n",
    "        dict1[i]+=1\n",
    "    else:             \n",
    "        dict1[i]=1    # char in dict1 =1\n",
    "print(dict1)   # stor  in new dictionary\n",
    "        \n",
    "        "
   ]
  },
  {
   "cell_type": "code",
   "execution_count": 23,
   "id": "c0f56e98",
   "metadata": {},
   "outputs": [
    {
     "name": "stdout",
     "output_type": "stream",
     "text": [
      "Enter int num :5\n",
      "120\n",
      "Enter int N :9\n",
      "362880\n"
     ]
    }
   ],
   "source": [
    "#Q.48-->Write a Python function to calculate the factorial of a number (a nonnegative integer)\n",
    "  # usar Difine function\n",
    "\n",
    "def factorial(num):    # finction define   \n",
    "    if num <= 0:       \n",
    "        return 1\n",
    "    else:\n",
    "        return num*factorial(num-1)  #input num in maltplication  \n",
    "num=int(input(\"Enter int num :\"))\n",
    "print(factorial(num))    # fanction calling\n",
    "\n",
    "import math              # using math module\n",
    "n=int(input(\"Enter int N :\"))\n",
    "print(math.factorial(n))"
   ]
  },
  {
   "cell_type": "code",
   "execution_count": 11,
   "id": "f39800bd",
   "metadata": {},
   "outputs": [
    {
     "data": {
      "text/plain": [
       "False"
      ]
     },
     "execution_count": 11,
     "metadata": {},
     "output_type": "execute_result"
    }
   ],
   "source": [
    "#Q.49-->Write a Python function to check whether a number is in a given range \n",
    "  \n",
    "# def num_range(num):   # fanction definetion\n",
    "#     if num in range(0,50):     # fanction decleretion \n",
    "#         print(f\" num of [{num}] in renge\")     \n",
    "#     else :\n",
    "#         print(f\"num of [{num}] is Outof range\")\n",
    "        \n",
    "# num=int(input(\"Enter num :\"))\n",
    "# num_range(num)     # fanction calling\n",
    "\n",
    "def is_in_range(num, upper, lower):\n",
    "    return upper <= num <= lower\n",
    "is_in_range(10, 50, 10)\n",
    "#is_in_range(-1,20,2)\n"
   ]
  },
  {
   "cell_type": "code",
   "execution_count": 53,
   "id": "bda4f02e",
   "metadata": {},
   "outputs": [
    {
     "name": "stdout",
     "output_type": "stream",
     "text": [
      "Enter any number: 6\n",
      "1\n",
      "2\n",
      "3\n",
      "The number is a Perfect number!\n"
     ]
    }
   ],
   "source": [
    "# Q.50-->Write a Python function to check whether a number is perfect or not.\n",
    "\n",
    "def perfect(n):\n",
    "    sum = 0    # um is define is 0\n",
    "    for i in range(1, n):\n",
    "        if(n % i == 0):   # check number %i==0\n",
    "            print(i)     # print value \n",
    "            sum = sum + i     # all sum in number\n",
    "        else:\n",
    "            pass   \n",
    "    if (sum == n):    #check is sum & n are Equal\n",
    "        print(\"The number is a Perfect number!\")\n",
    "    else:\n",
    "        print(\"The number is not a Perfect number!\")\n",
    "n = int(input(\"Enter any number: \"))\n",
    "perfect(n)     # call in function   \n",
    "    "
   ]
  },
  {
   "cell_type": "code",
   "execution_count": 48,
   "id": "eadd7c5c",
   "metadata": {},
   "outputs": [
    {
     "name": "stdout",
     "output_type": "stream",
     "text": [
      "Enter a string :madam\n",
      "['madam'] string is palindrome\n"
     ]
    }
   ],
   "source": [
    "#Q.51-->Write a Python function that checks whether a passed string is palindrome or not.\n",
    "\n",
    "def isPalindrome(str): #fanction definetion\n",
    "    return str[0] == str[-1]  # check first charter and last charter are sem\n",
    "\n",
    "str=input(\"Enter a string :\")\n",
    "ans = isPalindrome(str)    # ans variable in stor in return \n",
    "  \n",
    "if ans:     # check to string\n",
    "    print([str],\"string is palindrome\")\n",
    "else:\n",
    "    print([str],\"string is not a palindrome\")\n",
    "        "
   ]
  },
  {
   "cell_type": "code",
   "execution_count": null,
   "id": "49322c1e",
   "metadata": {},
   "outputs": [],
   "source": [
    "#Q.52-->How Many Basic Types Of Functions Are Available In Python?\n",
    "ans:->There are two types of functions in python: User-Defined Functions - these types of functions\n",
    "      are defined by the user to perform any specific task. Built-in Functions - these types of functions\n",
    "      are pre-defined in python\n",
    "       1) User-defined function\n",
    "          -> def\n",
    "              - simpal function\n",
    "              - function with argument\n",
    "              - return type\n",
    "       2) in Bult function\n",
    "         -> print()\n",
    "         -> type()\n",
    "         -> id()\n",
    "         -> index()"
   ]
  },
  {
   "cell_type": "code",
   "execution_count": 29,
   "id": "a4ed65ca",
   "metadata": {},
   "outputs": [
    {
     "name": "stdout",
     "output_type": "stream",
     "text": [
      "(30,)\n"
     ]
    }
   ],
   "source": [
    "#Q.53-->How can you pick a random item from a list or tuple?\n",
    "import random    # usind rendom module\n",
    "tuple=[(10,2.21),(30,),(40,50,\"hallo\"),(70,\"Django\"),(\"chirag\"),(100)]\n",
    "tuple=random.choice(tuple)     # rendamly show num\n",
    "print(tuple)"
   ]
  },
  {
   "cell_type": "code",
   "execution_count": null,
   "id": "84694747",
   "metadata": {},
   "outputs": [],
   "source": []
  },
  {
   "cell_type": "code",
   "execution_count": 34,
   "id": "df0758c4",
   "metadata": {},
   "outputs": [
    {
     "name": "stdout",
     "output_type": "stream",
     "text": [
      "random no=[4]\n"
     ]
    }
   ],
   "source": [
    "#Q.54-->How can you pick a random item from a range?\n",
    "#ans:->Use a random.randint() function to get a random integer number from the inclusive range.\n",
    "import random   # usind rendom module\n",
    "R=random.randint(0,20)   # rendamly show 0-19 num\n",
    "print(f\"random no=[{R}]\")"
   ]
  },
  {
   "cell_type": "code",
   "execution_count": 41,
   "id": "27859232",
   "metadata": {},
   "outputs": [
    {
     "name": "stdout",
     "output_type": "stream",
     "text": [
      "random no=[6421]\n"
     ]
    }
   ],
   "source": [
    "#Q.55--> How can you get a random number in python?\n",
    "#ans:-> To generate random number in Python, randint() function is used. This function is defined in random module.\n",
    "import random    # usind rendom module\n",
    "N=random.randint(1111,9999) # rendamly show 1111-9999 num \n",
    "print(f\"random no=[{N}]\")       "
   ]
  },
  {
   "cell_type": "code",
   "execution_count": 14,
   "id": "d3b621d6",
   "metadata": {},
   "outputs": [
    {
     "name": "stdout",
     "output_type": "stream",
     "text": [
      "3\n"
     ]
    }
   ],
   "source": [
    "#Q.56--> How will you set the starting value in generating random numbers?\n",
    "# ans:->The random number generator needs a number to start with (a seed value), \n",
    "#       to be able to generate a random number. By default the random number generator\n",
    "#       uses the current system time. Use the seed() method to customize the start number of the random number generator.\n",
    "A=random.randrange(1,5) # ans 1,2,3,4\n",
    "print(A)"
   ]
  },
  {
   "cell_type": "code",
   "execution_count": 39,
   "id": "199f65df",
   "metadata": {},
   "outputs": [
    {
     "name": "stdout",
     "output_type": "stream",
     "text": [
      "rendamly swep [30, 10, 40, 20, 50, 60]\n"
     ]
    }
   ],
   "source": [
    "#Q.57-->How will you randomizes the items of a list in place? \n",
    "import random   # usind rendom module\n",
    "list=[10,20,30,40,50,60]\n",
    "random.shuffle(list)   # rendamly list value sweping\n",
    "print(\"rendamly swep\",list)"
   ]
  },
  {
   "cell_type": "code",
   "execution_count": 2,
   "id": "db370349",
   "metadata": {},
   "outputs": [
    {
     "name": "stdout",
     "output_type": "stream",
     "text": [
      "my name is chirag\n"
     ]
    }
   ],
   "source": [
    "#Q.58-->Write a Python program to read a random line from a file.\n",
    "import random\n",
    "str=[\"hallo i am good\", 'i am larning python','i am a good persion','my choice is python language','my name is chirag']\n",
    "str=random.choice(str)  # rendamly line show\n",
    "print(str)"
   ]
  },
  {
   "cell_type": "code",
   "execution_count": 28,
   "id": "f14a74d2",
   "metadata": {},
   "outputs": [
    {
     "name": "stdout",
     "output_type": "stream",
     "text": [
      "degrees ==> 9365.3\n",
      "radian ia :163.52\n"
     ]
    }
   ],
   "source": [
    "#Q.59-->Write a Python program to convert degree to radian.\n",
    "pi = 22/7\n",
    "degrees = float(input(\"degrees ==> \"))   \n",
    "\n",
    "radians = degrees * pi / 180   # formula degree to radian.\n",
    "print(f\"radian ia :{radians:.2f}\")"
   ]
  },
  {
   "cell_type": "code",
   "execution_count": 20,
   "id": "33d9b143",
   "metadata": {},
   "outputs": [
    {
     "name": "stdout",
     "output_type": "stream",
     "text": [
      "Enter base value:98.33\n",
      "Enter base value:24.98\n",
      "Enter hight value:14.001\n",
      "area of trapezoid :863.23\n"
     ]
    }
   ],
   "source": [
    "#Q.60-->Write a Python program to calculate the area of a trapezoid \n",
    "base_1=float(input(\"Enter base value:\"))\n",
    "base_2=float(input(\"Enter base value:\"))\n",
    "height=float(input(\"Enter hight value:\"))\n",
    "area = ((base_1 + base_2) / 2) * height   # formula area of a trapezoid\n",
    "print(f\"area of trapezoid :{area:.2f}\")"
   ]
  },
  {
   "cell_type": "code",
   "execution_count": 2,
   "id": "e4bc197d",
   "metadata": {},
   "outputs": [
    {
     "name": "stdout",
     "output_type": "stream",
     "text": [
      "Length of base: 65.33\n",
      "Measurement of height: 25.32\n",
      "Area is: 1654.16\n"
     ]
    }
   ],
   "source": [
    "#Q.61-->Write a Python program to calculate the area of a parallelogram.\n",
    "\n",
    "base = float(input('Length of base: '))\n",
    "height = float(input('Measurement of height: '))\n",
    "area = base * height   #  formula parallelogram\n",
    "print(f\"Area is: {area:.2f}\" )"
   ]
  },
  {
   "cell_type": "code",
   "execution_count": 14,
   "id": "76f2ee47",
   "metadata": {
    "scrolled": true
   },
   "outputs": [
    {
     "name": "stdout",
     "output_type": "stream",
     "text": [
      "Height of cylinder: 9.32\n",
      "Radius of cylinder: 19.98\n",
      "voluam is:11682.52\n",
      "area of a cylinder:3676.40\n"
     ]
    }
   ],
   "source": [
    "#Q.62-->Write a Python program to calculate surface volume and area of a cylinder \n",
    "#import math\n",
    "pi=3.14\n",
    "height = float(input('Height of cylinder: '))\n",
    "radias = float(input('Radius of cylinder: '))\n",
    "volume = pi * radias * radias * height\n",
    "sur_area = ((2*pi*radias) * height) + ((pi*radias**2)*2)  # foremula cylinder\n",
    "print(f\"voluam is:{volume:.2f}\")\n",
    "#print(f\"area of a cylinder{sur_area}\")\n",
    "print(f\"area of a cylinder:{sur_area:.2f}\")"
   ]
  },
  {
   "cell_type": "code",
   "execution_count": 1,
   "id": "47cdc2fe",
   "metadata": {},
   "outputs": [
    {
     "name": "stdout",
     "output_type": "stream",
     "text": [
      "Enter num :54\n",
      "1\n",
      "2\n",
      "3\n",
      "6\n",
      "9\n",
      "18\n",
      "27\n",
      "sum of all divisors num :- 66\n"
     ]
    }
   ],
   "source": [
    "#Q.63-->Write a Python program to returns sum of all divisors of a number \n",
    "\n",
    "def sum_div(num):  # fanction defination\n",
    "    divisors = [1]      \n",
    "    for i in range(1, num):\n",
    "        if (num % i)==0:  # check is divisors number\n",
    "            print(i)   # print divisors num\n",
    "            divisors.append(i)\n",
    "    return sum(divisors)\n",
    "\n",
    "num=int(input(\"Enter num :\"))\n",
    "print(\"sum of all divisors num :-\",sum_div(num)-1)# call fanction\n"
   ]
  },
  {
   "cell_type": "code",
   "execution_count": 3,
   "id": "80fca4e2",
   "metadata": {
    "scrolled": false
   },
   "outputs": [
    {
     "name": "stdout",
     "output_type": "stream",
     "text": [
      "Enter Element num : 10\n",
      "Enter value :23.33\n",
      "Enter value :32.65\n",
      "Enter value :47.36\n",
      "Enter value :-12.33\n",
      "Enter value :98.325\n",
      "Enter value :36\n",
      "Enter value :0.325\n",
      "Enter value :36.987\n",
      "Enter value :1254.3\n",
      "Enter value :54\n",
      "[23.33, 32.65, 47.36, -12.33, 98.325, 36.0, 0.325, 36.987, 1254.3, 54.0]\n",
      "maximum number : 1254.3\n",
      "minimum number : -12.33\n"
     ]
    }
   ],
   "source": [
    "#Q.64-->Write a Python program to find the maximum and minimum numbers from the specified decimal numbers. \n",
    "num=int(input(\"Enter Element num : \"))\n",
    "list1=[]   # stor in input list1\n",
    "for i in range(num):\n",
    "    list1.append(float(input(\"Enter value :\"))) # input value to list append\n",
    "print(list1)\n",
    "print(\"maximum number :\",max(list1))\n",
    "print(\"minimum number :\",min(list1))\n"
   ]
  },
  {
   "cell_type": "code",
   "execution_count": 6,
   "id": "0df9a4b5",
   "metadata": {
    "scrolled": false
   },
   "outputs": [
    {
     "name": "stdout",
     "output_type": "stream",
     "text": [
      "     April 2023\n",
      "Mo Tu We Th Fr Sa Su\n",
      "                1  2\n",
      " 3  4  5  6  7  8  9\n",
      "10 11 12 13 14 15 16\n",
      "17 18 19 20 21 22 23\n",
      "24 25 26 27 28 29 30\n",
      "\n",
      "     March 2023\n",
      "Mo Tu We Th Fr Sa Su\n",
      "       1  2  3  4  5\n",
      " 6  7  8  9 10 11 12\n",
      "13 14 15 16 17 18 19\n",
      "20 21 22 23 24 25 26\n",
      "27 28 29 30 31\n",
      "\n"
     ]
    }
   ],
   "source": [
    "import calendar\n",
    "print(calendar.month(2023,4))\n",
    "print(calendar.month(2023,3))"
   ]
  },
  {
   "cell_type": "code",
   "execution_count": 5,
   "id": "f65348d9",
   "metadata": {},
   "outputs": [
    {
     "name": "stdout",
     "output_type": "stream",
     "text": [
      "2023,May,13,Sat\n",
      "2023-05-13 15:36:23.696824\n"
     ]
    }
   ],
   "source": [
    "import datetime\n",
    "x=datetime.datetime.now()\n",
    "print(x.strftime(\"%Y,%B,%d,%a\"))\n",
    "# print(x.strftime(\"%H,%m,%s\"))\n",
    "\n",
    "import datetime\n",
    "\n",
    "# get the current date and time\n",
    "now = datetime.datetime.now()\n",
    "\n",
    "print(now)\n"
   ]
  },
  {
   "cell_type": "code",
   "execution_count": null,
   "id": "5370df60",
   "metadata": {
    "scrolled": true
   },
   "outputs": [],
   "source": []
  },
  {
   "cell_type": "code",
   "execution_count": null,
   "id": "54600b62",
   "metadata": {},
   "outputs": [],
   "source": []
  },
  {
   "cell_type": "code",
   "execution_count": null,
   "id": "3197e901",
   "metadata": {},
   "outputs": [],
   "source": []
  },
  {
   "cell_type": "code",
   "execution_count": null,
   "id": "fee36b79",
   "metadata": {},
   "outputs": [],
   "source": [
    "\n"
   ]
  },
  {
   "cell_type": "code",
   "execution_count": null,
   "id": "d99c68bd",
   "metadata": {},
   "outputs": [],
   "source": []
  },
  {
   "cell_type": "code",
   "execution_count": null,
   "id": "b1890b5f",
   "metadata": {},
   "outputs": [],
   "source": []
  },
  {
   "cell_type": "code",
   "execution_count": null,
   "id": "63809ba7",
   "metadata": {},
   "outputs": [],
   "source": []
  },
  {
   "cell_type": "code",
   "execution_count": null,
   "id": "9f1e4077",
   "metadata": {},
   "outputs": [],
   "source": []
  },
  {
   "cell_type": "code",
   "execution_count": null,
   "id": "3326539b",
   "metadata": {},
   "outputs": [],
   "source": []
  },
  {
   "cell_type": "code",
   "execution_count": null,
   "id": "4ed735bd",
   "metadata": {},
   "outputs": [],
   "source": []
  }
 ],
 "metadata": {
  "kernelspec": {
   "display_name": "Python 3 (ipykernel)",
   "language": "python",
   "name": "python3"
  },
  "language_info": {
   "codemirror_mode": {
    "name": "ipython",
    "version": 3
   },
   "file_extension": ".py",
   "mimetype": "text/x-python",
   "name": "python",
   "nbconvert_exporter": "python",
   "pygments_lexer": "ipython3",
   "version": "3.10.9"
  }
 },
 "nbformat": 4,
 "nbformat_minor": 5
}
