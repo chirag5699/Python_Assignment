{
 "cells": [
  {
   "cell_type": "code",
   "execution_count": null,
   "id": "34eff2e0",
   "metadata": {
    "scrolled": true
   },
   "outputs": [],
   "source": [
    "Q.1--> What is File function in python? What is keywords to create and write file. \n",
    "\n",
    "A :Python file object provides methods and attributes to access and manipulate files.\n",
    "   Using file objects, we can read or write any files. Whenever we open a file to perform any operations on it,\n",
    "   Python returns a file object. To create a file object in Python use the built-in functions, such as open() and os. popen() .\n",
    "\n",
    "  readlines() : This function returns a list where each element is single line of that file.\n",
    "  write() : This function writes a fixed sequence of characters to a file.\n",
    "  writelines() : This function writes a list of string.\n",
    "  append() : This function append string to the file instead of overwriting the file"
   ]
  },
  {
   "cell_type": "code",
   "execution_count": 32,
   "id": "3c5f2119",
   "metadata": {
    "scrolled": true
   },
   "outputs": [
    {
     "name": "stdout",
     "output_type": "stream",
     "text": [
      "name:chirag katrodiya\n",
      "email:chiragkatrodiya1994@gmail.com\n",
      "mo:823839102\n",
      "hallo i am larning python\n"
     ]
    }
   ],
   "source": [
    "#Q.2-->Write a Python program to read an entire text file.\n",
    "fp=open(\"dev.txt\",\"r\")  #(fp) file pointer open new txt file  read mode\n",
    "print(fp.read())   \n",
    "fp.close()   # file close"
   ]
  },
  {
   "cell_type": "code",
   "execution_count": 33,
   "id": "f2e89319",
   "metadata": {
    "scrolled": false
   },
   "outputs": [
    {
     "name": "stdout",
     "output_type": "stream",
     "text": [
      "name:chirag katrodiya\n",
      "email:chiragkatrodiya1994@gmail.com\n",
      "mo:823839102\n",
      "hallo i am larning pythonmo.:8238391024\n",
      "\n"
     ]
    }
   ],
   "source": [
    "#Q.3--> Write a Python program to append text to a file and display the text\n",
    "\n",
    "fp=open(\"dev.txt\",\"a\")    # open txt file append mode   \n",
    "fp.write(\"mo.:8238391024\\n\")  # file under writing\n",
    "# print(fp.write)\n",
    "fp.close()    # closing file\n",
    "fp=open(\"dev.txt\",\"r\")    # read mode file\n",
    "print(fp.read())   # open file to read  \n",
    "fp.close()    # file clo"
   ]
  },
  {
   "cell_type": "code",
   "execution_count": 32,
   "id": "4296e1e8",
   "metadata": {
    "scrolled": true
   },
   "outputs": [
    {
     "name": "stdout",
     "output_type": "stream",
     "text": [
      "enter the number:5\n",
      "name:chirag katrodiya\n",
      "\n",
      "---------------\n",
      "email:chiragkatrodiya1994@gmail.com\n",
      "\n",
      "---------------\n",
      "mo:823839102\n",
      "\n",
      "---------------\n",
      "hallo i am larning pythonmo.:8238391024\n",
      "\n",
      "---------------\n",
      "\n",
      "---------------\n"
     ]
    }
   ],
   "source": [
    "#Q.4--> Write a Python program to read first n lines of a file. \n",
    "n=int(input(\"enter the number:\"))    # user input lines\n",
    "fp=open(\"dev.txt\",\"r\")    # open txt file read mode\n",
    "for i in range(0,n):      # for loop a read file in line\n",
    "    print(fp.readline())    # file reding\n",
    "    print(\"---------------\")\n",
    "fp.close()     # file closing"
   ]
  },
  {
   "cell_type": "code",
   "execution_count": 2,
   "id": "904a7bab",
   "metadata": {
    "scrolled": false
   },
   "outputs": [
    {
     "name": "stdout",
     "output_type": "stream",
     "text": [
      "enter the number:5\n",
      "['sagar\\n', 'dhaval\\n', 'tushar\\n', 'ravi\\n', 'kano']\n"
     ]
    }
   ],
   "source": [
    "#Q.5-->Write a Python program to read last n lines of a file. \n",
    "n=int(input(\"enter the number:\"))  # usar input\n",
    "fp=open(\"dev.txt\",\"r\")   # open txt file read mode\n",
    "lines=fp.readlines()  # lines variable store  files lines  \n",
    "print(lines[-n:])   # last line\n",
    "\n",
    "fp.close()   # file closing"
   ]
  },
  {
   "cell_type": "code",
   "execution_count": 36,
   "id": "6de81d76",
   "metadata": {},
   "outputs": [
    {
     "name": "stdout",
     "output_type": "stream",
     "text": [
      "['name:chirag katrodiya\\n', 'email:chiragkatrodiya1994@gmail.com\\n', 'mo:823839102\\n', 'hallo i am larning pythonmo.:8238391024\\n']\n"
     ]
    }
   ],
   "source": [
    "#Q.6-->Write a Python program to read a file line by line and store it into a list \n",
    "\n",
    "n=open(\"dev.txt\",\"r\") \n",
    "print(n.readlines())"
   ]
  },
  {
   "cell_type": "code",
   "execution_count": 7,
   "id": "7fbfd4dd",
   "metadata": {},
   "outputs": [
    {
     "name": "stdout",
     "output_type": "stream",
     "text": [
      "store variable is l1= ['name:chirag katrodiya\\n', 'email:chiragkatrodiya1994@gmail.com\\n', 'mo:823839102\\n', 'hallo i am larning pythonmo.:8238391024\\n']\n"
     ]
    }
   ],
   "source": [
    "#Q.7--> Write a Python program to read a file line by line store it into a variable.\n",
    "ch=open(\"dev.txt\",\"r\")   # open file read mode\n",
    "l1=ch.readlines()   # file reding\n",
    "print(\"store variable is l1=\",l1)"
   ]
  },
  {
   "cell_type": "code",
   "execution_count": 1,
   "id": "e0589f37",
   "metadata": {
    "scrolled": false
   },
   "outputs": [
    {
     "name": "stdout",
     "output_type": "stream",
     "text": [
      "['H', 'a', 'l', 'l', 'o', ' ', 'm', 'y', ' ', 'n', 'a', 'm', 'e', ' ', 'i', 's', ' ', 'c', 'h', 'i', 'r', 'a', 'g', ' ', 'a', 'n', 'd', ' ', 'i', ' ', 'a', 'm', ' ', 'l', 'a', 'r', 'n', 'i', 'n', 'g', ' ', 'p', 'y', 't', 'h', 'o', 'n', ' ', 'l', 'a', 'n', 'g', 'u', 'a', 'g', 'e', ' ', 'i', 'n', ' ', 'u', 's', 'e', ' ', 't', 'o', ' ', 'w', 'e', 'b', ' ', 'd', 'e', 'v', 'l', 'o', 'p', 'm', 'e', 'n', 't']\n"
     ]
    }
   ],
   "source": [
    "#Q.8--> Write a python program to find the longest words.\n",
    "str1=\"Hallo my name is chirag and i am larning python language in use to web devlopment\"\n",
    "str1=sorted(str1,key=len)\n",
    "print(str1)\n"
   ]
  },
  {
   "cell_type": "code",
   "execution_count": null,
   "id": "ab7d7a2e",
   "metadata": {},
   "outputs": [],
   "source": []
  },
  {
   "cell_type": "markdown",
   "id": "edd13e01",
   "metadata": {
    "scrolled": true
   },
   "source": [
    "\n",
    "   "
   ]
  },
  {
   "cell_type": "code",
   "execution_count": 1,
   "id": "b7868eae",
   "metadata": {},
   "outputs": [
    {
     "name": "stdout",
     "output_type": "stream",
     "text": [
      "4\n"
     ]
    }
   ],
   "source": [
    "#Q.9-->Write a Python program to count the number of lines in a text file.\n",
    "\n",
    "fp=open(\"dev.txt\",\"r\")\n",
    "print(len(fp.readlines()))"
   ]
  },
  {
   "cell_type": "code",
   "execution_count": 7,
   "id": "1b46fc85",
   "metadata": {
    "scrolled": true
   },
   "outputs": [
    {
     "name": "stdout",
     "output_type": "stream",
     "text": [
      "{'name:chirag': 1, 'katrodiya': 1, 'email:chiragkatrodiya1994@gmail.com': 1, 'mo:823839102': 1, 'hallo': 1, 'i': 1, 'am': 1, 'larning': 1, 'pythonmo.:8238391024': 1}\n"
     ]
    }
   ],
   "source": [
    "#Q.10-->Write a Python program to count the frequency of words in a file. \n",
    "\n",
    "file = open(\"dev.txt\",\"r\")\n",
    "n = ' '.join(line for line in file.read().splitlines())\n",
    "n = n.split(' ')\n",
    "dict= {}\n",
    "for word in n:\n",
    "    if word not in dict:\n",
    "        dict[word] = 1\n",
    "    else:\n",
    "        dict[word] += 1\n",
    "print(dict)        \n",
    "file.close()"
   ]
  },
  {
   "cell_type": "raw",
   "id": "d834a564",
   "metadata": {
    "scrolled": true
   },
   "source": [
    "\n",
    "        "
   ]
  },
  {
   "cell_type": "code",
   "execution_count": 62,
   "id": "3c6bae78",
   "metadata": {},
   "outputs": [
    {
     "name": "stdout",
     "output_type": "stream",
     "text": [
      "\n",
      "\n",
      "chirag\n",
      "sagar\n",
      "dhaval\n",
      "tushar\n",
      "ravi\n",
      "kano\n"
     ]
    }
   ],
   "source": [
    "#Q.11-->Write a Python program to write a list to a file\n",
    "l1=[\"chirag\",\"sagar\",\"dhaval\",\"viral\"]\n",
    "ch=open(\"dev.txt\",\"r\")   # open file read mode\n",
    "fp.close()\n",
    "fp=open(\"dev.txt\",\"r\")\n",
    "print(fp.read())"
   ]
  },
  {
   "cell_type": "code",
   "execution_count": 64,
   "id": "87b3726a",
   "metadata": {},
   "outputs": [
    {
     "name": "stdout",
     "output_type": "stream",
     "text": [
      "\n",
      "\n",
      "chirag\n",
      "sagar\n",
      "dhaval\n",
      "tushar\n",
      "ravi\n",
      "kano\n"
     ]
    }
   ],
   "source": [
    "#Q.12--> Write a Python program to copy the contents of a file to another file\n",
    "fp=open(\"dev.txt\",\"r\")\n",
    "fp1=open(\"dev2.txt\",\"w\")\n",
    "for line in fp:\n",
    "    fp1.write(line)\n",
    "fp1.close()\n",
    "fp1=open(\"dev2.txt\",\"r\")\n",
    "print(fp1.read())"
   ]
  },
  {
   "cell_type": "code",
   "execution_count": null,
   "id": "e5bd9edd",
   "metadata": {},
   "outputs": [],
   "source": [
    "Q.13--> Explain Exception handling? What is an Error in Python?\n",
    " ans:-When an error occurs, or exception as we call it, Python will normally stop and generate an error message.\n",
    "      These exceptions can be handled using the try statement:\n",
    "        \n",
    "  \n",
    "    \n",
    "-> There are mainly two types of errors in python programming namely - Syntax errors and Logical Errors or Exceptions.\n",
    "   Whenever we do not write the proper syntax of the python programming language (or any other language) then the\n",
    "   python interpreter throws an error known as syntax error.    "
   ]
  },
  {
   "cell_type": "code",
   "execution_count": null,
   "id": "ac88be5a",
   "metadata": {},
   "outputs": [],
   "source": [
    "#Q.14-->How many except statements can a try-except block have? Name Some built-in exception classes: \n",
    "\n",
    "   -> The try block lets you test a block of code for errors.\n",
    "\n",
    "   -> The except block lets you handle the error.\n",
    "\n",
    "   -> The else block lets you execute code when there is no error.\n",
    "\n",
    "   -> The finally block lets you execute code, regardless of the result of the try- and except blocks."
   ]
  },
  {
   "cell_type": "code",
   "execution_count": null,
   "id": "fa4362c5",
   "metadata": {},
   "outputs": [],
   "source": [
    "#Q.15-->When will the else part of try-except-else be executed ?\n",
    " Explanation: The else part is executed when no exception occurs.\n",
    "        \n",
    "        "
   ]
  },
  {
   "cell_type": "code",
   "execution_count": null,
   "id": "6338cf72",
   "metadata": {},
   "outputs": [],
   "source": [
    "Q.16-->Can one block of except statements handle multiple exception? \n",
    "--> , try-except blocks can be used to catch and respond to one or multiple exceptions.\n",
    "      In cases where a process raises more than one possible exception, they can all be handled using\n",
    "      a single except clause."
   ]
  },
  {
   "cell_type": "code",
   "execution_count": null,
   "id": "21494e77",
   "metadata": {},
   "outputs": [],
   "source": [
    "#Q.17-->When is the finally block executed?\n",
    "\n",
    " the finally block is always executed, even if no exception was thrown."
   ]
  },
  {
   "cell_type": "code",
   "execution_count": null,
   "id": "06d250d6",
   "metadata": {},
   "outputs": [],
   "source": [
    "#Q.18--> What happens when „1‟== 1 is executed?\n",
    "\n",
    "Explanation: it simply evaluates to false and does not raise any exception."
   ]
  },
  {
   "cell_type": "code",
   "execution_count": 69,
   "id": "8d88b383",
   "metadata": {},
   "outputs": [
    {
     "name": "stdout",
     "output_type": "stream",
     "text": [
      "enter number :hjg\n",
      "not valid integer\n",
      "Python...\n"
     ]
    }
   ],
   "source": [
    "#Q.19-->How Do You Handle Exceptions With Try/Except/Finally In Python? Explain with coding snippets\n",
    "\n",
    "try:\n",
    "    a=int(input(\"enter number :\"))   # try to block execute othar wise except block execute\n",
    "    print(10/0)\n",
    "except ValueError:      # try block is error other wise Except block is execute\n",
    "    print(\"not valid string\")\n",
    "except ZeroDivisionError:\n",
    "    print(\"0 divisan is not allowad\")\n",
    "finally:         # finnaly block is compalsari execute\n",
    "      print(\"Python...\")"
   ]
  },
  {
   "cell_type": "code",
   "execution_count": 31,
   "id": "d79e2941",
   "metadata": {},
   "outputs": [
    {
     "name": "stdout",
     "output_type": "stream",
     "text": [
      "Enter number:14\n",
      "try block execute \n",
      " 14 is Even number\n"
     ]
    }
   ],
   "source": [
    "#Q.20--> Write python program that user to enter only odd numbers, else will raise an exception.\n",
    "try:\n",
    "    num=int(input(\"Enter number:\"))\n",
    "    if num%2==0:\n",
    "        print(f\"try block execute \\n {num} is Even number\")\n",
    "except ValueError:\n",
    "        print(\" Not string..only int num allowed\")        "
   ]
  },
  {
   "cell_type": "code",
   "execution_count": null,
   "id": "4ef6a463",
   "metadata": {},
   "outputs": [],
   "source": [
    "Q.21--> What are oops concepts? Is multiple inheritance supported in java?\n",
    "ans:->Major OOP (object-oriented programming) concepts in Python include Class, \n",
    "    Object, Method, Inheritance, Polymorphism, Data Abstraction, and Encapsulation.\n",
    "    \n",
    "  -> One reason why the Java programming language does not permit you to extend more than one class is\n",
    "   to avoid the issues of multiple inheritance of state, which is the ability to inherit fields from multiple classes."
   ]
  },
  {
   "cell_type": "code",
   "execution_count": 12,
   "id": "9a1565da",
   "metadata": {},
   "outputs": [
    {
     "name": "stdout",
     "output_type": "stream",
     "text": [
      "enter name:chirag\n",
      "enter lname:katrodiya\n",
      "enter M_no:21324345\n",
      "name is :chirag\n",
      " lname is : katrodiya\n",
      " M_No is : 21324345 \n"
     ]
    }
   ],
   "source": [
    "# Q.22--> How to Define a Class in Python? What Is Self? Give An Example Of A Python Class\n",
    "# -> A class in Python can be defined using the class keyword. As per the syntax above,\n",
    "#   a class is defined using the class keyword followed by the class name and : operator after the class name,\n",
    "#     which allows you to continue in the next indented line to define class members.\n",
    "    \n",
    "# -> What is SELF in Python? SELF represents the instance of class.\n",
    "#   This handy keyword allows you to access variables, attributes, and methods of a defined class in Python.\n",
    "#   The self parameter doesn't have to be named “self,” as you can call it by any other name.06\n",
    "class student:   # base class\n",
    "    def __init__(self):  # use constructor\n",
    "        self.name=\"\"\n",
    "        self.lname=\"\"\n",
    "        self.M_no=\"\"\n",
    "    def getdata(self):  # fanction declaretion\n",
    "#         name=\"\"\n",
    "#         lname=\"\"\n",
    "#         M_no=\"\"\n",
    "        \n",
    "        self.name=input(\"enter name:\")\n",
    "        self.lname=input(\"enter lname:\")\n",
    "        self.M_no=int(input(\"enter M_no:\"))\n",
    "        \n",
    "    def print_data(self):  # fanction declaretion\n",
    "        print(f\"name is :{self.name}\\n lname is : {self.lname}\\n M_No is : {self.M_no} \")\n",
    "       \n",
    "\n",
    "s1=student()   # object\n",
    "s1.getdata()   # object.function calling\n",
    "s1.print_data()\n"
   ]
  },
  {
   "cell_type": "code",
   "execution_count": 6,
   "id": "96c745b0",
   "metadata": {},
   "outputs": [
    {
     "name": "stdout",
     "output_type": "stream",
     "text": [
      "Enter Rectangle length : 17.175\n",
      "Enter Rectangle width : 14.40\n",
      "Rectangle langth is :17.175\n",
      "Rectangle width is :14.4\n",
      "area of a rectangle is 247.32\n"
     ]
    }
   ],
   "source": [
    "# Q.23--> Write a Python class named Rectangle constructed by a length and width and a method which will\n",
    "#         compute the area of a rectangle\n",
    "class rectengle():  # use constructor  \n",
    "    def __init__(self):\n",
    "        self.langth=\"\"\n",
    "        self.width=\"\"\n",
    "    \n",
    "    def inputdata(self):   # self(r1)fanction declaretion\n",
    "        self.langth=float(input(\"Enter Rectangle length : \"))\n",
    "        self.width=float(input(\"Enter Rectangle width : \"))\n",
    "        \n",
    "    def showdata(self):    # self(r1)fanction declaretion\n",
    "        print(f\"Rectangle langth is :{self.langth}\")\n",
    "        print(f\"Rectangle width is :{self.width}\")\n",
    "        \n",
    "    def find_area(self):   #self(r1) fanction declaretion\n",
    "        self.area=self.langth*self.width\n",
    "        print(f\"area of a rectangle is {self.area:.2f}\")\n",
    "\n",
    "r1 = rectengle()  # object\n",
    "r1.inputdata()    # object r1(self).function calling\n",
    "r1.showdata()\n",
    "r1.find_area()\n"
   ]
  },
  {
   "cell_type": "code",
   "execution_count": 21,
   "id": "60dc3a9b",
   "metadata": {},
   "outputs": [
    {
     "name": "stdout",
     "output_type": "stream",
     "text": [
      "Enter the radius of circle: 122.33\n",
      "Area of carcle is 46988.93\n",
      "perimeter of the carcle is 768.23\n"
     ]
    }
   ],
   "source": [
    "# Q.24-->Write a Python class named Circle constructed by a radius and two methods which will compute the area\n",
    "#        and the perimeter of a circle \n",
    "import math\n",
    "class Circle():    # base class\n",
    "    def __init__(self):\n",
    "        r = radius\n",
    "        \n",
    "    def area(self,r):\n",
    "        area=3.14*r*r\n",
    "        print(f\"Area of carcle is {area:.2f}\")\n",
    "        \n",
    "    def perimeter(self,r):\n",
    "        perimeter = 2*(3.14*r)\n",
    "        print(f\"perimeter of the carcle is {perimeter:.2f}\")\n",
    "        \n",
    "c1=Circle()\n",
    "radius = float(input(\"Enter the radius of circle: \"))\n",
    "c1.area(radius)\n",
    "c1.perimeter(radius)\n",
    "    "
   ]
  },
  {
   "cell_type": "code",
   "execution_count": 18,
   "id": "78dcfcd2",
   "metadata": {},
   "outputs": [],
   "source": [
    "#.25--> Explain Inheritance in Python with an example? What is init? Or What Is A Constructor In Python? \n",
    "->  Inheritance relationship defines the classes that inherit from other classes as derived, subclass,\n",
    "    or sub-type classes. Base class remains to be the source from which a subclass inherits.\n",
    "ex->\n",
    "class Animal:   # supar/base class\n",
    "    def\n",
    "class lion(Animal):  # sub/dirived class  & Inherit base class  \n",
    "    def\n",
    "\n",
    "->[---What is init---]\n",
    "->The __init__ method is the Python equivalent of the C++ constructor in an object-oriented approach.\n",
    "  The __init__ function is called every time an object is created from a class.\n",
    "  The __init__ method lets the class initialize the object's attributes and serves no other purpose.\n",
    "  It is only used within classes.\n",
    "    \n",
    "->[--What Is A Constructor In Python?--] \n",
    "->A constructor is a special method in a class used to create and initialize an object of a class.\n",
    "  There are different types of constructors in Python programming language. Constructor is invoked automatically\n",
    "  when an object of a class is created"
   ]
  },
  {
   "cell_type": "code",
   "execution_count": null,
   "id": "cc060008",
   "metadata": {},
   "outputs": [],
   "source": [
    "#.26--> What is Instantiation in terms of OOP terminology?\n",
    " --->  In the OOP language C#, instantiation describes the processes of creating a new object for a class using a\n",
    "        new keyword.\n"
   ]
  },
  {
   "cell_type": "code",
   "execution_count": null,
   "id": "1122ffbd",
   "metadata": {},
   "outputs": [],
   "source": [
    "#.27--> What is used to check whether an object o is an instance of class A?\n",
    "# --->  The instanceof operator in Java is used to check whether an object is an instance of a particular class or not. \n",
    "#       objectName instanceOf className; Here, if objectName is an instance of className , the operator returns true . \n",
    "#       Otherwise, it returns false ."
   ]
  },
  {
   "cell_type": "code",
   "execution_count": null,
   "id": "a40ec2ac",
   "metadata": {},
   "outputs": [],
   "source": [
    "#.28--> What relationship is appropriate for Course and Faculty? \n",
    "# --->  The appropriate relationship between a \"Course\" and \"Faculty\" can be represented as a many-to-many relationship. \n",
    "#       This means that multiple courses can be taught by multiple faculty members, and each faculty member can teach multiple \n",
    "#       courses."
   ]
  },
  {
   "cell_type": "code",
   "execution_count": null,
   "id": "83b73427",
   "metadata": {},
   "outputs": [],
   "source": [
    "#.29--> What relationship is appropriate for Student and Person? \n",
    "# --->  The appropriate relationship between \"Student\" and \"Person\" can be represented as a one-to-one relationship. This means \n",
    "#       that each student is associated with one and only one person, and each person can be associated with one and only one \n",
    "#       student."
   ]
  }
 ],
 "metadata": {
  "kernelspec": {
   "display_name": "Python 3 (ipykernel)",
   "language": "python",
   "name": "python3"
  },
  "language_info": {
   "codemirror_mode": {
    "name": "ipython",
    "version": 3
   },
   "file_extension": ".py",
   "mimetype": "text/x-python",
   "name": "python",
   "nbconvert_exporter": "python",
   "pygments_lexer": "ipython3",
   "version": "3.10.9"
  }
 },
 "nbformat": 4,
 "nbformat_minor": 5
}
